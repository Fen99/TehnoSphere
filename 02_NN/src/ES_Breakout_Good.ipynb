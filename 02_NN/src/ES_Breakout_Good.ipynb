{
 "cells": [
  {
   "cell_type": "markdown",
   "metadata": {},
   "source": [
    "### Evolution stratagy for breakout\n",
    "https://arxiv.org/pdf/1703.03864.pdf"
   ]
  },
  {
   "cell_type": "code",
   "execution_count": 7,
   "metadata": {
    "collapsed": true
   },
   "outputs": [],
   "source": [
    "import numpy as np\n",
    "\n",
    "import matplotlib.pyplot as plt\n",
    "%matplotlib inline\n",
    "from IPython import display\n",
    "\n",
    "import gym\n",
    "\n",
    "import torch\n",
    "import torch.nn as nn\n",
    "import torch.nn.init as nn_init\n",
    "import torch.optim as optim\n",
    "from torch.autograd import Variable\n",
    "\n",
    "import breakout\n",
    "from imp import reload\n",
    "reload(breakout)\n",
    "\n",
    "import copy\n",
    "import datetime\n",
    "\n",
    "import json\n",
    "import pickle\n",
    "\n",
    "import time\n",
    "\n",
    "import sys\n",
    "import multiprocessing as mp\n",
    "\n",
    "from collections import defaultdict"
   ]
  },
  {
   "cell_type": "code",
   "execution_count": 8,
   "metadata": {
    "collapsed": true
   },
   "outputs": [],
   "source": [
    "class dotdict(defaultdict):\n",
    "    \"\"\"dot.notation access to dictionary attributes\"\"\"\n",
    "    __getattr__ = defaultdict.get\n",
    "    __setattr__ = defaultdict.__setitem__\n",
    "    __delattr__ = defaultdict.__delitem__"
   ]
  },
  {
   "cell_type": "code",
   "execution_count": 9,
   "metadata": {
    "collapsed": true
   },
   "outputs": [],
   "source": [
    "def GetNRandomInts(n, min_int=0, max_int=int(1e7)):\n",
    "    return list(obj for obj in map(int, np.random.randint(min_int, max_int, size=(n, ))))"
   ]
  },
  {
   "cell_type": "code",
   "execution_count": 10,
   "metadata": {},
   "outputs": [
    {
     "data": {
      "image/png": "[encoded data removed]",
      "text/plain": [
       "<Figure size 432x288 with 1 Axes>"
      ]
     },
     "metadata": {},
     "output_type": "display_data"
    },
    {
     "name": "stdout",
     "output_type": "stream",
     "text": [
      "2\n"
     ]
    },
    {
     "data": {
      "image/png": "[encoded data removed]",
      "text/plain": [
       "<Figure size 432x288 with 1 Axes>"
      ]
     },
     "metadata": {},
     "output_type": "display_data"
    }
   ],
   "source": [
    "#Screens count visualisation\n",
    "reload(breakout)\n",
    "env = gym.make('BreakoutDeterministic-v4')\n",
    "breakout_vis = breakout.Breakout('BreakoutDeterministic-v4')\n",
    "reward, done = breakout_vis.MakeStep(1)\n",
    "for num in range(10000):\n",
    "    #reward, done = breakout_vis.MakeStep(0)\n",
    "    action = int(np.random.randint(0, 4))\n",
    "    print(action)\n",
    "    reward, done = breakout_vis.MakeStep(action)\n",
    "    time.sleep(0.2)\n",
    "    if done:\n",
    "        break\n",
    "    breakout_vis.ShowState(title=str(num))"
   ]
  },
  {
   "cell_type": "code",
   "execution_count": 11,
   "metadata": {
    "collapsed": true
   },
   "outputs": [],
   "source": [
    "#Cuda support\n",
    "\n",
    "CUDA = True\n",
    "def ToTensor(arr):\n",
    "    if CUDA:\n",
    "        return torch.Tensor(arr).cuda()\n",
    "    else:\n",
    "        return torch.Tensor(arr)"
   ]
  },
  {
   "cell_type": "code",
   "execution_count": 12,
   "metadata": {
    "collapsed": true
   },
   "outputs": [],
   "source": [
    "# Virtual batch normalization - аналог батч нормализации, когда средние активации считаются в заранее выбранном батче,\n",
    "# а потом применяются ко всем остальным\n",
    "# У нас батч - это последовательность из картинок для одного цикла игр\n",
    "class VirtualBatchNorm(nn.Module):\n",
    "    def __init__(self, features_shape, eps=1e-5):\n",
    "        super().__init__()\n",
    "        #y = gamma*x_norm + beta\n",
    "        self.features_shape = features_shape\n",
    "        self.gamma = nn.Parameter(ToTensor(np.random.normal(1, 0.1, features_shape)))\n",
    "        self.beta = nn.Parameter(ToTensor(np.random.normal(0, 0.1, features_shape)))\n",
    "        \n",
    "        self.clear_norm_parameters()\n",
    "        self.eps = eps\n",
    "        \n",
    "        #Batch for which we are changing weights\n",
    "        self.is_ref_batch = False\n",
    "        \n",
    "    def clear_norm_parameters(self):\n",
    "        self.mu = ToTensor(np.zeros(self.features_shape))\n",
    "        self.sigma_sq = ToTensor(np.zeros(self.features_shape))\n",
    "        self.ref_batch_len = 0\n",
    "        \n",
    "    def forward(self, x):\n",
    "        if self.is_ref_batch:\n",
    "            x_sum = self.mu * self.ref_batch_len\n",
    "            x_sq_sum = self.sigma_sq*self.ref_batch_len + 2*self.mu*x_sum - self.mu*self.mu\n",
    "            x_sum += torch.sum(x.data, dim=0)\n",
    "            x_sq_sum += torch.sum(x.data * x.data, dim=0)\n",
    "            \n",
    "            self.ref_batch_len += 1\n",
    "            self.mu = x_sum / self.ref_batch_len\n",
    "            self.sigma_sq = (x_sq_sum - 2*self.mu*x_sum + self.ref_batch_len*self.mu*self.mu) / self.ref_batch_len\n",
    "        \n",
    "        x_centred = (x.data - self.mu) / torch.sqrt(self.sigma_sq + self.eps)\n",
    "        #print(x_centred)\n",
    "        return Variable(x_centred * self.gamma.data + self.beta.data, requires_grad=False)\n",
    "\n",
    "def HasModelVBN(model):\n",
    "    for module in model.modules():\n",
    "        if type(module) == VirtualBatchNorm:\n",
    "            return True\n",
    "    return False\n",
    "\n",
    "def ApplyVBN(model, breakout, seed, vbn_ref_size=50, max_screens=1000):\n",
    "    def _ChangeRefBatchState(state):\n",
    "        for module in model.modules():\n",
    "            if type(module) == VirtualBatchNorm:\n",
    "                module.is_ref_batch = state\n",
    "                if state == True:\n",
    "                    module.clear_norm_parameters()\n",
    "                    \n",
    "    np.random.seed(seed)\n",
    "    vbn_seeds = GetNRandomInts(vbn_ref_size)\n",
    "    _ChangeRefBatchState(True)\n",
    "    for vbn_ref_id in range(vbn_ref_size):\n",
    "        breakout.GetSummaryScore(model, vbn_seeds[vbn_ref_id], max_screens=max_screens)\n",
    "    _ChangeRefBatchState(False)"
   ]
  },
  {
   "cell_type": "code",
   "execution_count": 18,
   "metadata": {
    "collapsed": true
   },
   "outputs": [],
   "source": [
    "#Works with VirtualBatchNorm layers\n",
    "class EvolutionStratagy:\n",
    "    def __init__(self, model,\n",
    "                 game='BreakoutDeterministic-v4', seed=777,\n",
    "                 mutation_power=0.02, vbn_ref_size=10, vbn_incr_period=10, population_size=50, population_incr_period=50,\n",
    "                 learning_rate=0.05, epochs_count=1e4, lr_decr_coeff=0.95, lr_decr_period=100,\n",
    "                 start_epoch=0, elapsed_times=[], avg_rewards=[], test_rewards=[],\n",
    "                 filename_base='model_breakout-determ_es_'):\n",
    "        self.model = model\n",
    "        self.parameters = [p for p in model.parameters()]\n",
    "        self.config = dotdict()\n",
    "        \n",
    "        self.config['game'] = game\n",
    "        self.config['seed'] = seed\n",
    "        \n",
    "        self.config['mutation_power'] = mutation_power\n",
    "        self.config['population_size'] = population_size\n",
    "        self.config['population_incr_period'] = population_incr_period\n",
    "        self.config['vbn_ref_size'] = vbn_ref_size\n",
    "        self.config['vbn_incr_period'] = vbn_incr_period\n",
    "        \n",
    "        self.config['learning_rate'] = learning_rate\n",
    "        self.config['epochs_count'] = int(epochs_count)\n",
    "        self.config['lr_decr_coeff'] = lr_decr_coeff\n",
    "        self.config['lr_decr_period'] = lr_decr_period\n",
    "        \n",
    "        self.config['start_epoch'] = int(start_epoch)\n",
    "        self.config['elapsed_times'] = elapsed_times\n",
    "        self.config['avg_rewards'] = avg_rewards\n",
    "        self.config['test_rewards'] = test_rewards\n",
    "        \n",
    "        self.config['filename_base'] = filename_base\n",
    "        \n",
    "        self.breakout = breakout.Breakout(game=game, cuda=CUDA)\n",
    "        self.has_vbn = HasModelVBN(self.model)\n",
    "        \n",
    "    #Статическая функция, позволяет загрузить параметры\n",
    "    def Load(model, name_model, name_json, new_filename_base=None):\n",
    "        with open(name_model, 'rb') as file:\n",
    "            state_dict = pickle.load(file)\n",
    "            model.load_state_dict(state_dict)\n",
    "        with open(name_json) as file:\n",
    "            training_state = json.load(file)\n",
    "        \n",
    "        if not new_filename_base is None:\n",
    "            training_state.filename_base = new_filename_base\n",
    "        \n",
    "        return EvolutionStratagy(model, **training_state)\n",
    "    \n",
    "    def Save(self, epoch):\n",
    "        with open('models/'+self.config.filename_base+str(epoch)+'.dat', 'wb') as file:\n",
    "            pickle.dump(self.model.state_dict(), file)\n",
    "        with open('models/params_'+self.config.filename_base+str(epoch)+'.json', 'w') as file:\n",
    "            json.dump(self.config, file)\n",
    "    \n",
    "    #Получает параметры сети\n",
    "    def _GetSourceParameters(self):\n",
    "        source_parameters = []\n",
    "        for p in self.parameters:\n",
    "            source_parameters.append(p.data.clone())\n",
    "        return source_parameters\n",
    "    \n",
    "    #Изменяет сеть, предварительно восстановив параметры\n",
    "    def _MutateParams(self, source_parameters, mutation_vector):\n",
    "        for pos, p in enumerate(self.parameters):\n",
    "            p.data = source_parameters[pos].clone()\n",
    "            p.data += mutation_vector[pos]\n",
    "        \n",
    "    #creator - функция, которая принимает размер тензора и генерирует ndarray нужной формы\n",
    "    def _CreateTensorForEachParameter(self, creator):\n",
    "        result = []\n",
    "        for p in self.parameters:\n",
    "            result.append(ToTensor(creator(p.data.shape)))\n",
    "        return result\n",
    "        \n",
    "    def TrainEpoch(self, epoch_seed, max_screens, vbn_ref_size, population_size, learning_rate):\n",
    "        np.random.seed(epoch_seed)\n",
    "        population_seeds = GetNRandomInts(population_size)\n",
    "        \n",
    "        if self.has_vbn:\n",
    "            ApplyVBN(self.model, self.breakout, self.config.seed, vbn_ref_size, max_screens)\n",
    "            \n",
    "        source_parameters = self._GetSourceParameters() #Сохраняем параметры сети перед мутациями\n",
    "              \n",
    "        #Calculate shift\n",
    "        #cumulative_mutation - накопленные мутации с учетом reward\n",
    "        cumulative_mutation = self._CreateTensorForEachParameter(lambda shape: np.zeros(shape))\n",
    "        avg_reward = 0\n",
    "        for curr_id in range(population_size):\n",
    "            #Мутируем каждый элемент популяции\n",
    "            mutations_vector = self._CreateTensorForEachParameter \\\n",
    "                                    (lambda shape: np.random.normal(0, self.config.mutation_power, shape))\n",
    "            self._MutateParams(source_parameters, mutations_vector)\n",
    "            reward = self.breakout.GetSummaryScore(self.model, population_seeds[curr_id], max_screens=max_screens)\n",
    "            avg_reward += reward\n",
    "            \n",
    "            for param_id, mut in enumerate(cumulative_mutation):\n",
    "                mut += reward * mutations_vector[param_id]\n",
    "        avg_reward /= population_size\n",
    "        \n",
    "        #Shift\n",
    "        for param_mutation in cumulative_mutation:\n",
    "            param_mutation /= population_size\n",
    "            param_mutation /= self.config.mutation_power\n",
    "            param_mutation *= learning_rate\n",
    "        self._MutateParams(source_parameters, cumulative_mutation)\n",
    "        return avg_reward\n",
    "        \n",
    "    #Обучает Evolution stratagy. need_graphs=True => каждую эпоху будет производится контрольная игра и ее reward\n",
    "    #будет отмечен на графике (сохранение в файл - всегда). Для контрольной игры устанавливается seed\n",
    "    def Train(self, need_graphs=True):\n",
    "        if self.config.start_epoch != 0:\n",
    "            epochs_nums = [i for i in range(self.config.start_epoch+1)]\n",
    "            self.config.start_epoch += 1\n",
    "        else:\n",
    "            epochs_nums = []\n",
    "\n",
    "        np.random.seed(self.config.seed)\n",
    "        epoch_seeds = GetNRandomInts(self.config.epochs_count)\n",
    "        for current_epoch in range(self.config.start_epoch, self.config.epochs_count):\n",
    "            epoch_start_time = datetime.datetime.now()\n",
    "            self.config.avg_rewards.append(self.TrainEpoch \\\n",
    "                    (epoch_seeds[current_epoch],\n",
    "                     current_epoch * 3 + 100, #max_screens\n",
    "                     self.config.vbn_ref_size + (current_epoch // self.config.vbn_incr_period), #vbn_ref_size\n",
    "                     self.config.population_size + (current_epoch // self.config.population_incr_period), #vbn_ref_size\n",
    "                     self.config.learning_rate * (self.config.lr_decr_coeff ** (current_epoch // self.config.lr_decr_period))))\n",
    "            if len(self.config.elapsed_times) == 0:\n",
    "                self.config.elapsed_times.append((datetime.datetime.now() - epoch_start_time).seconds)\n",
    "            else:\n",
    "                self.config.elapsed_times.append(self.config.elapsed_times[-1] + \\\n",
    "                                                 (datetime.datetime.now() - epoch_start_time).seconds)\n",
    "             \n",
    "            epochs_nums.append(current_epoch)\n",
    "            self.config.test_rewards.append(self.breakout.GetSummaryScore(self.model, self.config.seed, current_epoch + 100))\n",
    "            with open('models/dynamic_'+self.config.filename_base+'.txt', 'w') as file:\n",
    "                file.writelines([\"{0}\\t{1}\\t{2}\\t{3}\\n\".format(epochs_nums[i], self.config.elapsed_times[i], \n",
    "                                                               self.config.avg_rewards[i], self.config.test_rewards[i]) \\\n",
    "                                 for i in range(len(epochs_nums))])\n",
    "                file.write('=== NEXT EPOCH ===\\n')\n",
    "            if need_graphs:\n",
    "                plt.clf()\n",
    "                plt.plot(epochs_nums, self.config.test_rewards)\n",
    "                plt.plot(epochs_nums, self.config.avg_rewards)\n",
    "                display.clear_output(wait=True)\n",
    "                display.display(plt.gcf())\n",
    "            sys.stdout.write('\\rEpoch {0}; Time = {1}; avg_rewards = {2}; Current test reward = {3}'. \\\n",
    "                                     format(current_epoch, self.config.elapsed_times[-1], self.config.avg_rewards[-1], \n",
    "                                            self.config.test_rewards[-1]))\n",
    "            \n",
    "            self.config.start_epoch = current_epoch\n",
    "            if (current_epoch % 50 == 0 and current_epoch != 0) or current_epoch == 1:\n",
    "                self.Save(current_epoch)"
   ]
  },
  {
   "cell_type": "code",
   "execution_count": 19,
   "metadata": {
    "collapsed": true
   },
   "outputs": [],
   "source": [
    "#Служебные слои\n",
    "class VerboseLayer(nn.Module):\n",
    "    def forward(self, x):\n",
    "        #print(x.data.shape)\n",
    "        print(x)\n",
    "        #print(np.std(x.data.cpu().numpy()))\n",
    "        return x\n",
    "    \n",
    "class RavelLevel(nn.Module):\n",
    "    def forward(self, x):\n",
    "        return x.view(x.size(0), -1)"
   ]
  },
  {
   "cell_type": "code",
   "execution_count": 20,
   "metadata": {
    "collapsed": true
   },
   "outputs": [],
   "source": [
    "#Возвращает conv2d-слой, инициализированный по HE\n",
    "def InitLayer(layer_type, *args, **kwargs):\n",
    "    new_layer = layer_type(*args, **kwargs)\n",
    "    nn_init.normal(new_layer.weight.data, std=0.01)\n",
    "    return new_layer\n",
    "\n",
    "def CreateNewNetwork():\n",
    "    network = nn.Sequential(InitLayer(nn.Conv2d, 3, 16, kernel_size=8, stride=4), nn.ReLU(),  # #VirtualBatchNorm((16, 51, 39)), \n",
    "                            InitLayer(nn.Conv2d, 16, 32, kernel_size=4, stride=2), nn.ReLU(), #VerboseLayer(),#VirtualBatchNorm((32, 24, 18)),\n",
    "                            RavelLevel(),\n",
    "                            InitLayer(nn.Linear, 13824, 160), nn.ReLU(), # VerboseLayer(),\n",
    "                            InitLayer(nn.Linear, 160, 4, bias=False), nn.Softmax(dim=1))\n",
    "    if CUDA:\n",
    "        return network.cuda()\n",
    "    else:\n",
    "        return network"
   ]
  },
  {
   "cell_type": "code",
   "execution_count": 21,
   "metadata": {
    "collapsed": true
   },
   "outputs": [],
   "source": [
    "#Example game\n",
    "reload(breakout)\n",
    "game = breakout.Breakout(game='BreakoutDeterministic-v4', cuda=CUDA)\n",
    "player = CreateNewNetwork()\n",
    "if HasModelVBN(player):\n",
    "    ApplyVBN(player, game, 777, vbn_ref_size=10)"
   ]
  },
  {
   "cell_type": "code",
   "execution_count": 23,
   "metadata": {},
   "outputs": [
    {
     "data": {
      "image/png": "[encoded data removed]",
      "text/plain": [
       "<Figure size 432x288 with 1 Axes>"
      ]
     },
     "metadata": {},
     "output_type": "display_data"
    },
    {
     "data": {
      "text/plain": [
       "0.0"
      ]
     },
     "execution_count": 23,
     "metadata": {},
     "output_type": "execute_result"
    },
    {
     "data": {
      "image/png": "[encoded data removed]",
      "text/plain": [
       "<Figure size 432x288 with 1 Axes>"
      ]
     },
     "metadata": {},
     "output_type": "display_data"
    }
   ],
   "source": [
    "game.GetSummaryScore(player, max_screens=100, visualizate=True)"
   ]
  },
  {
   "cell_type": "code",
   "execution_count": 24,
   "metadata": {},
   "outputs": [
    {
     "data": {
      "image/png": "[encoded data removed]",
      "text/plain": [
       "<Figure size 432x288 with 1 Axes>"
      ]
     },
     "metadata": {},
     "output_type": "display_data"
    },
    {
     "name": "stdout",
     "output_type": "stream",
     "text": [
      "\r",
      "Epoch 1237; Time = 96224; avg_rewards = 9.756756756756756; Current test reward = 11.0"
     ]
    },
    {
     "ename": "KeyboardInterrupt",
     "evalue": "",
     "output_type": "error",
     "traceback": [
      "\u001b[1;31m---------------------------------------------------------------------------\u001b[0m",
      "\u001b[1;31mKeyboardInterrupt\u001b[0m                         Traceback (most recent call last)",
      "\u001b[1;32m<ipython-input-24-e52f8a83dadc>\u001b[0m in \u001b[0;36m<module>\u001b[1;34m()\u001b[0m\n\u001b[0;32m      5\u001b[0m optimizator = EvolutionStratagy.Load(result_network, 'models/model_breakout-determ_es_600.dat',\n\u001b[0;32m      6\u001b[0m                                      'models/params_model_breakout-determ_es_600.json')\n\u001b[1;32m----> 7\u001b[1;33m \u001b[0moptimizator\u001b[0m\u001b[1;33m.\u001b[0m\u001b[0mTrain\u001b[0m\u001b[1;33m(\u001b[0m\u001b[1;33m)\u001b[0m\u001b[1;33m\u001b[0m\u001b[0m\n\u001b[0m",
      "\u001b[1;32m<ipython-input-18-8c69221d87aa>\u001b[0m in \u001b[0;36mTrain\u001b[1;34m(self, need_graphs)\u001b[0m\n\u001b[0;32m    123\u001b[0m                      \u001b[0mself\u001b[0m\u001b[1;33m.\u001b[0m\u001b[0mconfig\u001b[0m\u001b[1;33m.\u001b[0m\u001b[0mvbn_ref_size\u001b[0m \u001b[1;33m+\u001b[0m \u001b[1;33m(\u001b[0m\u001b[0mcurrent_epoch\u001b[0m \u001b[1;33m//\u001b[0m \u001b[0mself\u001b[0m\u001b[1;33m.\u001b[0m\u001b[0mconfig\u001b[0m\u001b[1;33m.\u001b[0m\u001b[0mvbn_incr_period\u001b[0m\u001b[1;33m)\u001b[0m\u001b[1;33m,\u001b[0m \u001b[1;31m#vbn_ref_size\u001b[0m\u001b[1;33m\u001b[0m\u001b[0m\n\u001b[0;32m    124\u001b[0m                      \u001b[0mself\u001b[0m\u001b[1;33m.\u001b[0m\u001b[0mconfig\u001b[0m\u001b[1;33m.\u001b[0m\u001b[0mpopulation_size\u001b[0m \u001b[1;33m+\u001b[0m \u001b[1;33m(\u001b[0m\u001b[0mcurrent_epoch\u001b[0m \u001b[1;33m//\u001b[0m \u001b[0mself\u001b[0m\u001b[1;33m.\u001b[0m\u001b[0mconfig\u001b[0m\u001b[1;33m.\u001b[0m\u001b[0mpopulation_incr_period\u001b[0m\u001b[1;33m)\u001b[0m\u001b[1;33m,\u001b[0m \u001b[1;31m#vbn_ref_size\u001b[0m\u001b[1;33m\u001b[0m\u001b[0m\n\u001b[1;32m--> 125\u001b[1;33m                      self.config.learning_rate * (self.config.lr_decr_coeff ** (current_epoch // self.config.lr_decr_period))))\n\u001b[0m\u001b[0;32m    126\u001b[0m             \u001b[1;32mif\u001b[0m \u001b[0mlen\u001b[0m\u001b[1;33m(\u001b[0m\u001b[0mself\u001b[0m\u001b[1;33m.\u001b[0m\u001b[0mconfig\u001b[0m\u001b[1;33m.\u001b[0m\u001b[0melapsed_times\u001b[0m\u001b[1;33m)\u001b[0m \u001b[1;33m==\u001b[0m \u001b[1;36m0\u001b[0m\u001b[1;33m:\u001b[0m\u001b[1;33m\u001b[0m\u001b[0m\n\u001b[0;32m    127\u001b[0m                 \u001b[0mself\u001b[0m\u001b[1;33m.\u001b[0m\u001b[0mconfig\u001b[0m\u001b[1;33m.\u001b[0m\u001b[0melapsed_times\u001b[0m\u001b[1;33m.\u001b[0m\u001b[0mappend\u001b[0m\u001b[1;33m(\u001b[0m\u001b[1;33m(\u001b[0m\u001b[0mdatetime\u001b[0m\u001b[1;33m.\u001b[0m\u001b[0mdatetime\u001b[0m\u001b[1;33m.\u001b[0m\u001b[0mnow\u001b[0m\u001b[1;33m(\u001b[0m\u001b[1;33m)\u001b[0m \u001b[1;33m-\u001b[0m \u001b[0mepoch_start_time\u001b[0m\u001b[1;33m)\u001b[0m\u001b[1;33m.\u001b[0m\u001b[0mseconds\u001b[0m\u001b[1;33m)\u001b[0m\u001b[1;33m\u001b[0m\u001b[0m\n",
      "\u001b[1;32m<ipython-input-18-8c69221d87aa>\u001b[0m in \u001b[0;36mTrainEpoch\u001b[1;34m(self, epoch_seed, max_screens, vbn_ref_size, population_size, learning_rate)\u001b[0m\n\u001b[0;32m     91\u001b[0m             \u001b[0mmutations_vector\u001b[0m \u001b[1;33m=\u001b[0m \u001b[0mself\u001b[0m\u001b[1;33m.\u001b[0m\u001b[0m_CreateTensorForEachParameter\u001b[0m                                     \u001b[1;33m(\u001b[0m\u001b[1;32mlambda\u001b[0m \u001b[0mshape\u001b[0m\u001b[1;33m:\u001b[0m \u001b[0mnp\u001b[0m\u001b[1;33m.\u001b[0m\u001b[0mrandom\u001b[0m\u001b[1;33m.\u001b[0m\u001b[0mnormal\u001b[0m\u001b[1;33m(\u001b[0m\u001b[1;36m0\u001b[0m\u001b[1;33m,\u001b[0m \u001b[0mself\u001b[0m\u001b[1;33m.\u001b[0m\u001b[0mconfig\u001b[0m\u001b[1;33m.\u001b[0m\u001b[0mmutation_power\u001b[0m\u001b[1;33m,\u001b[0m \u001b[0mshape\u001b[0m\u001b[1;33m)\u001b[0m\u001b[1;33m)\u001b[0m\u001b[1;33m\u001b[0m\u001b[0m\n\u001b[0;32m     92\u001b[0m             \u001b[0mself\u001b[0m\u001b[1;33m.\u001b[0m\u001b[0m_MutateParams\u001b[0m\u001b[1;33m(\u001b[0m\u001b[0msource_parameters\u001b[0m\u001b[1;33m,\u001b[0m \u001b[0mmutations_vector\u001b[0m\u001b[1;33m)\u001b[0m\u001b[1;33m\u001b[0m\u001b[0m\n\u001b[1;32m---> 93\u001b[1;33m             \u001b[0mreward\u001b[0m \u001b[1;33m=\u001b[0m \u001b[0mself\u001b[0m\u001b[1;33m.\u001b[0m\u001b[0mbreakout\u001b[0m\u001b[1;33m.\u001b[0m\u001b[0mGetSummaryScore\u001b[0m\u001b[1;33m(\u001b[0m\u001b[0mself\u001b[0m\u001b[1;33m.\u001b[0m\u001b[0mmodel\u001b[0m\u001b[1;33m,\u001b[0m \u001b[0mpopulation_seeds\u001b[0m\u001b[1;33m[\u001b[0m\u001b[0mcurr_id\u001b[0m\u001b[1;33m]\u001b[0m\u001b[1;33m,\u001b[0m \u001b[0mmax_screens\u001b[0m\u001b[1;33m=\u001b[0m\u001b[0mmax_screens\u001b[0m\u001b[1;33m)\u001b[0m\u001b[1;33m\u001b[0m\u001b[0m\n\u001b[0m\u001b[0;32m     94\u001b[0m             \u001b[0mavg_reward\u001b[0m \u001b[1;33m+=\u001b[0m \u001b[0mreward\u001b[0m\u001b[1;33m\u001b[0m\u001b[0m\n\u001b[0;32m     95\u001b[0m \u001b[1;33m\u001b[0m\u001b[0m\n",
      "\u001b[1;32mF:\\TechnoSphere\\02_Neuro\\Project\\breakout.py\u001b[0m in \u001b[0;36mGetSummaryScore\u001b[1;34m(self, gamer, seed, max_screens, visualizate)\u001b[0m\n\u001b[0;32m     42\u001b[0m             \u001b[0m_\u001b[0m\u001b[1;33m,\u001b[0m \u001b[0mnext_action\u001b[0m \u001b[1;33m=\u001b[0m \u001b[0mtorch\u001b[0m\u001b[1;33m.\u001b[0m\u001b[0mmax\u001b[0m\u001b[1;33m(\u001b[0m\u001b[0mgamer\u001b[0m\u001b[1;33m(\u001b[0m\u001b[0mself\u001b[0m\u001b[1;33m.\u001b[0m\u001b[0mGetNextInput\u001b[0m\u001b[1;33m(\u001b[0m\u001b[1;33m)\u001b[0m\u001b[1;33m)\u001b[0m\u001b[1;33m.\u001b[0m\u001b[0mdata\u001b[0m\u001b[1;33m,\u001b[0m \u001b[1;36m1\u001b[0m\u001b[1;33m)\u001b[0m\u001b[1;33m\u001b[0m\u001b[0m\n\u001b[0;32m     43\u001b[0m             \u001b[0mnext_action\u001b[0m \u001b[1;33m=\u001b[0m \u001b[0mnext_action\u001b[0m\u001b[1;33m[\u001b[0m\u001b[1;36m0\u001b[0m\u001b[1;33m]\u001b[0m\u001b[1;33m\u001b[0m\u001b[0m\n\u001b[1;32m---> 44\u001b[1;33m             \u001b[0mreward\u001b[0m\u001b[1;33m,\u001b[0m \u001b[0mdone\u001b[0m \u001b[1;33m=\u001b[0m \u001b[0mself\u001b[0m\u001b[1;33m.\u001b[0m\u001b[0mMakeStep\u001b[0m\u001b[1;33m(\u001b[0m\u001b[0mnext_action\u001b[0m\u001b[1;33m)\u001b[0m\u001b[1;33m\u001b[0m\u001b[0m\n\u001b[0m\u001b[0;32m     45\u001b[0m             \u001b[0msumm_reward\u001b[0m \u001b[1;33m+=\u001b[0m \u001b[0mreward\u001b[0m\u001b[1;33m\u001b[0m\u001b[0m\n\u001b[0;32m     46\u001b[0m             \u001b[1;32mif\u001b[0m \u001b[0mvisualizate\u001b[0m\u001b[1;33m:\u001b[0m\u001b[1;33m\u001b[0m\u001b[0m\n",
      "\u001b[1;32mF:\\TechnoSphere\\02_Neuro\\Project\\breakout.py\u001b[0m in \u001b[0;36mMakeStep\u001b[1;34m(self, action)\u001b[0m\n\u001b[0;32m     28\u001b[0m     \u001b[1;31m# returns reward\u001b[0m\u001b[1;33m\u001b[0m\u001b[1;33m\u001b[0m\u001b[0m\n\u001b[0;32m     29\u001b[0m     \u001b[1;32mdef\u001b[0m \u001b[0mMakeStep\u001b[0m\u001b[1;33m(\u001b[0m\u001b[0mself\u001b[0m\u001b[1;33m,\u001b[0m \u001b[0maction\u001b[0m\u001b[1;33m)\u001b[0m\u001b[1;33m:\u001b[0m\u001b[1;33m\u001b[0m\u001b[0m\n\u001b[1;32m---> 30\u001b[1;33m         \u001b[0mcurrent_state\u001b[0m\u001b[1;33m,\u001b[0m \u001b[0mreward\u001b[0m\u001b[1;33m,\u001b[0m \u001b[0mdone\u001b[0m\u001b[1;33m,\u001b[0m \u001b[0m_\u001b[0m \u001b[1;33m=\u001b[0m \u001b[0mself\u001b[0m\u001b[1;33m.\u001b[0m\u001b[0menv\u001b[0m\u001b[1;33m.\u001b[0m\u001b[0mstep\u001b[0m\u001b[1;33m(\u001b[0m\u001b[0maction\u001b[0m\u001b[1;33m)\u001b[0m\u001b[1;33m\u001b[0m\u001b[0m\n\u001b[0m\u001b[0;32m     31\u001b[0m         \u001b[0mself\u001b[0m\u001b[1;33m.\u001b[0m\u001b[0mcurrent_state\u001b[0m \u001b[1;33m=\u001b[0m \u001b[0mself\u001b[0m\u001b[1;33m.\u001b[0m\u001b[0mImageToTensor\u001b[0m\u001b[1;33m(\u001b[0m\u001b[0mcurrent_state\u001b[0m\u001b[1;33m)\u001b[0m\u001b[1;33m\u001b[0m\u001b[0m\n\u001b[0;32m     32\u001b[0m         \u001b[1;32mreturn\u001b[0m \u001b[0mreward\u001b[0m\u001b[1;33m,\u001b[0m \u001b[0mdone\u001b[0m\u001b[1;33m\u001b[0m\u001b[0m\n",
      "\u001b[1;32me:\\c_folders\\users\\fen\\anaconda2\\envs\\py36\\lib\\site-packages\\gym\\wrappers\\time_limit.py\u001b[0m in \u001b[0;36mstep\u001b[1;34m(self, action)\u001b[0m\n\u001b[0;32m     29\u001b[0m     \u001b[1;32mdef\u001b[0m \u001b[0mstep\u001b[0m\u001b[1;33m(\u001b[0m\u001b[0mself\u001b[0m\u001b[1;33m,\u001b[0m \u001b[0maction\u001b[0m\u001b[1;33m)\u001b[0m\u001b[1;33m:\u001b[0m\u001b[1;33m\u001b[0m\u001b[0m\n\u001b[0;32m     30\u001b[0m         \u001b[1;32massert\u001b[0m \u001b[0mself\u001b[0m\u001b[1;33m.\u001b[0m\u001b[0m_episode_started_at\u001b[0m \u001b[1;32mis\u001b[0m \u001b[1;32mnot\u001b[0m \u001b[1;32mNone\u001b[0m\u001b[1;33m,\u001b[0m \u001b[1;34m\"Cannot call env.step() before calling reset()\"\u001b[0m\u001b[1;33m\u001b[0m\u001b[0m\n\u001b[1;32m---> 31\u001b[1;33m         \u001b[0mobservation\u001b[0m\u001b[1;33m,\u001b[0m \u001b[0mreward\u001b[0m\u001b[1;33m,\u001b[0m \u001b[0mdone\u001b[0m\u001b[1;33m,\u001b[0m \u001b[0minfo\u001b[0m \u001b[1;33m=\u001b[0m \u001b[0mself\u001b[0m\u001b[1;33m.\u001b[0m\u001b[0menv\u001b[0m\u001b[1;33m.\u001b[0m\u001b[0mstep\u001b[0m\u001b[1;33m(\u001b[0m\u001b[0maction\u001b[0m\u001b[1;33m)\u001b[0m\u001b[1;33m\u001b[0m\u001b[0m\n\u001b[0m\u001b[0;32m     32\u001b[0m         \u001b[0mself\u001b[0m\u001b[1;33m.\u001b[0m\u001b[0m_elapsed_steps\u001b[0m \u001b[1;33m+=\u001b[0m \u001b[1;36m1\u001b[0m\u001b[1;33m\u001b[0m\u001b[0m\n\u001b[0;32m     33\u001b[0m \u001b[1;33m\u001b[0m\u001b[0m\n",
      "\u001b[1;32me:\\c_folders\\users\\fen\\anaconda2\\envs\\py36\\lib\\site-packages\\gym\\envs\\atari\\atari_env.py\u001b[0m in \u001b[0;36mstep\u001b[1;34m(self, a)\u001b[0m\n\u001b[0;32m     73\u001b[0m             \u001b[0mnum_steps\u001b[0m \u001b[1;33m=\u001b[0m \u001b[0mself\u001b[0m\u001b[1;33m.\u001b[0m\u001b[0mnp_random\u001b[0m\u001b[1;33m.\u001b[0m\u001b[0mrandint\u001b[0m\u001b[1;33m(\u001b[0m\u001b[0mself\u001b[0m\u001b[1;33m.\u001b[0m\u001b[0mframeskip\u001b[0m\u001b[1;33m[\u001b[0m\u001b[1;36m0\u001b[0m\u001b[1;33m]\u001b[0m\u001b[1;33m,\u001b[0m \u001b[0mself\u001b[0m\u001b[1;33m.\u001b[0m\u001b[0mframeskip\u001b[0m\u001b[1;33m[\u001b[0m\u001b[1;36m1\u001b[0m\u001b[1;33m]\u001b[0m\u001b[1;33m)\u001b[0m\u001b[1;33m\u001b[0m\u001b[0m\n\u001b[0;32m     74\u001b[0m         \u001b[1;32mfor\u001b[0m \u001b[0m_\u001b[0m \u001b[1;32min\u001b[0m \u001b[0mrange\u001b[0m\u001b[1;33m(\u001b[0m\u001b[0mnum_steps\u001b[0m\u001b[1;33m)\u001b[0m\u001b[1;33m:\u001b[0m\u001b[1;33m\u001b[0m\u001b[0m\n\u001b[1;32m---> 75\u001b[1;33m             \u001b[0mreward\u001b[0m \u001b[1;33m+=\u001b[0m \u001b[0mself\u001b[0m\u001b[1;33m.\u001b[0m\u001b[0male\u001b[0m\u001b[1;33m.\u001b[0m\u001b[0mact\u001b[0m\u001b[1;33m(\u001b[0m\u001b[0maction\u001b[0m\u001b[1;33m)\u001b[0m\u001b[1;33m\u001b[0m\u001b[0m\n\u001b[0m\u001b[0;32m     76\u001b[0m         \u001b[0mob\u001b[0m \u001b[1;33m=\u001b[0m \u001b[0mself\u001b[0m\u001b[1;33m.\u001b[0m\u001b[0m_get_obs\u001b[0m\u001b[1;33m(\u001b[0m\u001b[1;33m)\u001b[0m\u001b[1;33m\u001b[0m\u001b[0m\n\u001b[0;32m     77\u001b[0m \u001b[1;33m\u001b[0m\u001b[0m\n",
      "\u001b[1;32me:\\c_folders\\users\\fen\\anaconda2\\envs\\py36\\lib\\site-packages\\atari_py\\ale_python_interface.py\u001b[0m in \u001b[0;36mact\u001b[1;34m(self, action)\u001b[0m\n\u001b[0;32m    157\u001b[0m \u001b[1;33m\u001b[0m\u001b[0m\n\u001b[0;32m    158\u001b[0m     \u001b[1;32mdef\u001b[0m \u001b[0mact\u001b[0m\u001b[1;33m(\u001b[0m\u001b[0mself\u001b[0m\u001b[1;33m,\u001b[0m \u001b[0maction\u001b[0m\u001b[1;33m)\u001b[0m\u001b[1;33m:\u001b[0m\u001b[1;33m\u001b[0m\u001b[0m\n\u001b[1;32m--> 159\u001b[1;33m         \u001b[1;32mreturn\u001b[0m \u001b[0male_lib\u001b[0m\u001b[1;33m.\u001b[0m\u001b[0mact\u001b[0m\u001b[1;33m(\u001b[0m\u001b[0mself\u001b[0m\u001b[1;33m.\u001b[0m\u001b[0mobj\u001b[0m\u001b[1;33m,\u001b[0m \u001b[0mint\u001b[0m\u001b[1;33m(\u001b[0m\u001b[0maction\u001b[0m\u001b[1;33m)\u001b[0m\u001b[1;33m)\u001b[0m\u001b[1;33m\u001b[0m\u001b[0m\n\u001b[0m\u001b[0;32m    160\u001b[0m \u001b[1;33m\u001b[0m\u001b[0m\n\u001b[0;32m    161\u001b[0m     \u001b[1;32mdef\u001b[0m \u001b[0mgame_over\u001b[0m\u001b[1;33m(\u001b[0m\u001b[0mself\u001b[0m\u001b[1;33m)\u001b[0m\u001b[1;33m:\u001b[0m\u001b[1;33m\u001b[0m\u001b[0m\n",
      "\u001b[1;31mKeyboardInterrupt\u001b[0m: "
     ]
    },
    {
     "data": {
      "image/png": "[encoded data removed]",
      "text/plain": [
       "<Figure size 432x288 with 1 Axes>"
      ]
     },
     "metadata": {},
     "output_type": "display_data"
    }
   ],
   "source": [
    "#Обучаем стратегию\n",
    "reload(breakout)\n",
    "result_network = CreateNewNetwork()\n",
    "#optimizator = EvolutionStratagy(result_network, elapsed_times=[], avg_rewards=[], test_rewards=[])\n",
    "optimizator = EvolutionStratagy.Load(result_network, 'models/model_breakout-determ_es_600.dat',\n",
    "                                     'models/params_model_breakout-determ_es_600.json')\n",
    "optimizator.Train()"
   ]
  },
  {
   "cell_type": "code",
   "execution_count": 25,
   "metadata": {
    "collapsed": true
   },
   "outputs": [],
   "source": [
    "#Example game\n",
    "reload(breakout)\n",
    "breakout_vis = breakout.Breakout(game='BreakoutDeterministic-v4', cuda=CUDA)\n",
    "if HasModelVBN(result_network):\n",
    "    ApplyVBN(result_network, breakout_vis, 777)"
   ]
  },
  {
   "cell_type": "code",
   "execution_count": 26,
   "metadata": {},
   "outputs": [
    {
     "data": {
      "image/png": "[encoded data removed]",
      "text/plain": [
       "<Figure size 432x288 with 1 Axes>"
      ]
     },
     "metadata": {},
     "output_type": "display_data"
    },
    {
     "data": {
      "text/plain": [
       "3.0"
      ]
     },
     "execution_count": 26,
     "metadata": {},
     "output_type": "execute_result"
    },
    {
     "data": {
      "image/png": "[encoded data removed]",
      "text/plain": [
       "<Figure size 432x288 with 1 Axes>"
      ]
     },
     "metadata": {},
     "output_type": "display_data"
    }
   ],
   "source": [
    "breakout_vis.GetSummaryScore(result_network, max_screens=300, visualizate=True)"
   ]
  },
  {
   "cell_type": "code",
   "execution_count": null,
   "metadata": {
    "collapsed": true
   },
   "outputs": [],
   "source": []
  }
 ],
 "metadata": {
  "kernelspec": {
   "display_name": "Python 3",
   "language": "python",
   "name": "python3"
  },
  "language_info": {
   "codemirror_mode": {
    "name": "ipython",
    "version": 3
   },
   "file_extension": ".py",
   "mimetype": "text/x-python",
   "name": "python",
   "nbconvert_exporter": "python",
   "pygments_lexer": "ipython3",
   "version": "3.6.5"
  }
 },
 "nbformat": 4,
 "nbformat_minor": 2
}
