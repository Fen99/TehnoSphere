{
 "cells": [
  {
   "cell_type": "markdown",
   "metadata": {},
   "source": [
    "### Genetic algoritm for breakout\n",
    "https://arxiv.org/pdf/1703.03864.pdf"
   ]
  },
  {
   "cell_type": "code",
   "execution_count": 9,
   "metadata": {
    "collapsed": true
   },
   "outputs": [],
   "source": [
    "import numpy as np\n",
    "\n",
    "import matplotlib.pyplot as plt\n",
    "%matplotlib inline\n",
    "from IPython import display\n",
    "\n",
    "import gym\n",
    "\n",
    "import torch\n",
    "import torch.nn as nn\n",
    "import torch.nn.init as nn_init\n",
    "import torch.optim as optim\n",
    "from torch.autograd import Variable\n",
    "\n",
    "import breakout\n",
    "from imp import reload\n",
    "reload(breakout)\n",
    "\n",
    "import copy\n",
    "import datetime\n",
    "\n",
    "import json\n",
    "import pickle\n",
    "\n",
    "import sys\n",
    "import multiprocessing as mp\n",
    "\n",
    "from collections import defaultdict"
   ]
  },
  {
   "cell_type": "code",
   "execution_count": 10,
   "metadata": {
    "collapsed": true
   },
   "outputs": [],
   "source": [
    "class dotdict(defaultdict):\n",
    "    \"\"\"dot.notation access to dictionary attributes\"\"\"\n",
    "    __getattr__ = defaultdict.get\n",
    "    __setattr__ = defaultdict.__setitem__\n",
    "    __delattr__ = defaultdict.__delitem__"
   ]
  },
  {
   "cell_type": "code",
   "execution_count": 11,
   "metadata": {
    "collapsed": true
   },
   "outputs": [],
   "source": [
    "def GetNRandomInts(n, min_int=0, max_int=int(1e7)):\n",
    "    return list(obj for obj in map(int, np.random.randint(min_int, max_int, size=(n, ))))"
   ]
  },
  {
   "cell_type": "code",
   "execution_count": 12,
   "metadata": {
    "collapsed": true
   },
   "outputs": [],
   "source": [
    "#Cuda support\n",
    "CUDA = True\n",
    "def ToTensor(arr):\n",
    "    if CUDA:\n",
    "        return torch.Tensor(arr).cuda()\n",
    "    else:\n",
    "        return torch.Tensor(arr)"
   ]
  },
  {
   "cell_type": "code",
   "execution_count": 30,
   "metadata": {
    "collapsed": true
   },
   "outputs": [],
   "source": [
    "#Works with VirtualBatchNorm layers\n",
    "class EvolutionStratagy:\n",
    "    def __init__(self, network_creator,\n",
    "                 game='BreakoutDeterministic-v4', seed=777,\n",
    "                 epochs_count=1e4,\n",
    "                 mutation_power=0.01, mp_decr_period=100, mp_decr_coeff=0.95,\n",
    "                 population_size=50, population_incr_period=50, elite_count=10,\n",
    "                 start_epoch=0, elapsed_times=[], avg_rewards=[], test_rewards=[],\n",
    "                 filename_base='model_breakout-determ_ga_', parents=None):\n",
    "        self.config = dotdict()\n",
    "        \n",
    "        self.config['game'] = game\n",
    "        self.config['seed'] = seed\n",
    "        self.breakout = breakout.Breakout(game=game, cuda=CUDA)\n",
    "        \n",
    "        self.config['mutation_power'] = mutation_power\n",
    "        self.config['mp_decr_period'] = mp_decr_period\n",
    "        self.config['mp_decr_coeff'] = mp_decr_coeff\n",
    "        self.config['population_size'] = population_size\n",
    "        self.config['population_incr_period'] = population_incr_period\n",
    "        self.config['elite_count'] = elite_count\n",
    "        \n",
    "        self.config['epochs_count'] = int(epochs_count)\n",
    "        \n",
    "        self.config['start_epoch'] = int(start_epoch)\n",
    "        self.config['elapsed_times'] = elapsed_times\n",
    "        self.config['avg_rewards'] = avg_rewards\n",
    "        self.config['test_rewards'] = test_rewards\n",
    "        \n",
    "        self.config['filename_base'] = filename_base\n",
    "        \n",
    "        if parents is None:\n",
    "            self.parents = [network_creator() for _ in range(elite_count)]\n",
    "        else:\n",
    "            self.parents = parents\n",
    "        \n",
    "    #Статическая функция, позволяет загрузить параметры\n",
    "    def Load(network_creator, name_model, name_json, new_filename_base=None):\n",
    "        with open(name_json) as file:\n",
    "            training_state = json.load(file)\n",
    "        \n",
    "        parents = []\n",
    "        for i in range(training_state['elite_count']):\n",
    "            with open(name_model+'.'+str(i), 'rb') as file:\n",
    "                model = network_creator()\n",
    "                state_dict = pickle.load(file)\n",
    "                model.load_state_dict(state_dict)\n",
    "                parents.append(model)\n",
    "        \n",
    "        if not new_filename_base is None:\n",
    "            training_state.filename_base = new_filename_base\n",
    "        \n",
    "        return EvolutionStratagy(network_creator, parents=parents, **training_state)\n",
    "    \n",
    "    def Save(self, epoch):\n",
    "        for i in range(self.config.elite_count):\n",
    "            with open('models/'+self.config.filename_base+str(epoch)+'.dat'+'.'+str(i), 'wb') as file:\n",
    "                pickle.dump(self.parents[i].state_dict(), file)\n",
    "        with open('models/params_'+self.config.filename_base+str(epoch)+'.json', 'w') as file:\n",
    "            json.dump(self.config, file)\n",
    "    \n",
    "    #Создает ребенка мутацияим одного из родителей\n",
    "    def _CreateChild(self, seed, mutation_power):\n",
    "        np.random.seed(seed)\n",
    "        child = copy.deepcopy(self.parents[np.random.randint(0, self.config.elite_count)])\n",
    "        mutation_vector = self._CreateTensorForEachParameter \\\n",
    "                               (child.parameters(), lambda shape: np.random.normal(0, mutation_power, shape))\n",
    "            \n",
    "        for pos, p in enumerate(child.parameters()):\n",
    "            p.data += mutation_vector[pos]\n",
    "        return child\n",
    "        \n",
    "    #creator - функция, которая принимает размер тензора и генерирует ndarray нужной формы\n",
    "    def _CreateTensorForEachParameter(self, parameters, creator):\n",
    "        result = []\n",
    "        for p in parameters:\n",
    "            result.append(ToTensor(creator(p.data.shape)))\n",
    "        return result\n",
    "        \n",
    "    def TrainEpoch(self, epoch_seed, max_screens, mutation_power, population_size):\n",
    "        np.random.seed(epoch_seed)\n",
    "        population_seeds = GetNRandomInts(population_size)\n",
    "        population_rewards = np.zeros((population_size, ))\n",
    "              \n",
    "        for curr_id in range(population_size):\n",
    "            #Создаем мутациями новые сети\n",
    "            child = self._CreateChild(population_seeds[curr_id], mutation_power)\n",
    "            reward = self.breakout.GetSummaryScore(child, population_seeds[curr_id], max_screens=max_screens)\n",
    "            population_rewards[curr_id] = reward\n",
    "        \n",
    "        sorted_rewards = np.argsort(-population_rewards)\n",
    "        prev_best = self.parents[0]\n",
    "        for i in range(self.config.elite_count-1):\n",
    "            self.parents[i] = self._CreateChild(population_seeds[sorted_rewards[i]], mutation_power)\n",
    "        self.parents[self.config.elite_count-1] = prev_best\n",
    "        \n",
    "        return np.mean(population_rewards)\n",
    "        \n",
    "    #Обучает Genetic algorithm. need_graphs=True => каждую эпоху будет производится контрольная игра и ее reward\n",
    "    #будет отмечен на графике (сохранение в файл - всегда). Для контрольной игры устанавливается seed\n",
    "    def Train(self, need_graphs=True):\n",
    "        if self.config.start_epoch != 0:\n",
    "            epochs_nums = [i for i in range(self.config.start_epoch+1)]\n",
    "            self.config.start_epoch += 1\n",
    "        else:\n",
    "            epochs_nums = []\n",
    "\n",
    "        np.random.seed(self.config.seed)\n",
    "        epoch_seeds = GetNRandomInts(self.config.epochs_count)\n",
    "        for current_epoch in range(self.config.start_epoch, self.config.epochs_count):\n",
    "            epoch_start_time = datetime.datetime.now()\n",
    "            self.config.avg_rewards.append(self.TrainEpoch \\\n",
    "                    (epoch_seeds[current_epoch],\n",
    "                     current_epoch * 3 + 100, #max_screens\n",
    "                     self.config.mutation_power * (self.config.mp_decr_coeff ** (current_epoch // self.config.mp_decr_period)),\n",
    "                     self.config.population_size + (current_epoch // self.config.population_incr_period)))\n",
    "            if len(self.config.elapsed_times) == 0:\n",
    "                self.config.elapsed_times.append((datetime.datetime.now() - epoch_start_time).seconds)\n",
    "            else:\n",
    "                self.config.elapsed_times.append(self.config.elapsed_times[-1] + \\\n",
    "                                                 (datetime.datetime.now() - epoch_start_time).seconds)\n",
    "             \n",
    "            epochs_nums.append(current_epoch)\n",
    "            self.config.test_rewards.append(self.breakout.GetSummaryScore(self.parents[0], self.config.seed, current_epoch + 100))\n",
    "            with open('models/dynamic_'+self.config.filename_base+'.txt', 'w') as file:\n",
    "                file.writelines([\"{0}\\t{1}\\t{2}\\t{3}\\n\".format(epochs_nums[i], self.config.elapsed_times[i], \n",
    "                                                               self.config.avg_rewards[i], self.config.test_rewards[i]) \\\n",
    "                                 for i in range(len(epochs_nums))])\n",
    "                file.write('=== NEXT EPOCH ===\\n')\n",
    "            if need_graphs:\n",
    "                plt.clf()\n",
    "                plt.plot(epochs_nums, self.config.test_rewards)\n",
    "                plt.plot(epochs_nums, self.config.avg_rewards)\n",
    "                display.clear_output(wait=True)\n",
    "                display.display(plt.gcf())\n",
    "            sys.stdout.write('\\rEpoch {0}; Time = {1}; avg_rewards = {2}; Current test reward = {3}'. \\\n",
    "                                     format(current_epoch, self.config.elapsed_times[-1], self.config.avg_rewards[-1], \n",
    "                                            self.config.test_rewards[-1]))\n",
    "            \n",
    "            self.config.start_epoch = current_epoch\n",
    "            if (current_epoch % 100 == 0 and current_epoch != 0):\n",
    "                self.Save(current_epoch)"
   ]
  },
  {
   "cell_type": "code",
   "execution_count": 31,
   "metadata": {
    "collapsed": true
   },
   "outputs": [],
   "source": [
    "#Служебные слои\n",
    "class VerboseLayer(nn.Module):\n",
    "    def forward(self, x):\n",
    "        print(x.data.shape)\n",
    "        #print(x)\n",
    "        return x\n",
    "    \n",
    "class RavelLevel(nn.Module):\n",
    "    def forward(self, x):\n",
    "        return x.view(x.size(0), -1)"
   ]
  },
  {
   "cell_type": "code",
   "execution_count": 32,
   "metadata": {
    "collapsed": true
   },
   "outputs": [],
   "source": [
    "#Возвращает conv2d-слой, инициализированный по HE\n",
    "def InitLayer(layer_type, *args, **kwargs):\n",
    "    new_layer = layer_type(*args, **kwargs)\n",
    "    nn_init.normal(new_layer.weight.data, std=0.01)\n",
    "    return new_layer\n",
    "\n",
    "def CreateNewNetwork():\n",
    "    network = nn.Sequential(InitLayer(nn.Conv2d, 3, 16, kernel_size=8, stride=4), nn.ReLU(), #VerboseLayer(), #\n",
    "                            InitLayer(nn.Conv2d, 16, 32, kernel_size=4, stride=2), nn.ReLU(), #VerboseLayer(),#\n",
    "                            RavelLevel(),\n",
    "                            InitLayer(nn.Linear, 13824, 160), nn.ReLU(), # VerboseLayer(),\n",
    "                            InitLayer(nn.Linear, 160, 4, bias=False), nn.Softmax(dim=1))\n",
    "    if CUDA:\n",
    "        return network.cuda()\n",
    "    else:\n",
    "        return network"
   ]
  },
  {
   "cell_type": "code",
   "execution_count": 33,
   "metadata": {
    "collapsed": true
   },
   "outputs": [],
   "source": [
    "#Example game\n",
    "reload(breakout)\n",
    "game = breakout.Breakout(game='BreakoutDeterministic-v4', cuda=CUDA)\n",
    "player = CreateNewNetwork()"
   ]
  },
  {
   "cell_type": "code",
   "execution_count": 17,
   "metadata": {},
   "outputs": [
    {
     "data": {
      "image/png": "[encoded data removed]",
      "text/plain": [
       "<Figure size 432x288 with 1 Axes>"
      ]
     },
     "metadata": {},
     "output_type": "display_data"
    },
    {
     "data": {
      "text/plain": [
       "0.0"
      ]
     },
     "execution_count": 17,
     "metadata": {},
     "output_type": "execute_result"
    },
    {
     "data": {
      "image/png": "[encoded data removed]",
      "text/plain": [
       "<Figure size 432x288 with 1 Axes>"
      ]
     },
     "metadata": {},
     "output_type": "display_data"
    }
   ],
   "source": [
    "game.GetSummaryScore(player, max_screens=100, visualizate=True)"
   ]
  },
  {
   "cell_type": "code",
   "execution_count": null,
   "metadata": {},
   "outputs": [
    {
     "data": {
      "image/png": "[encoded data removed]",
      "text/plain": [
       "<Figure size 432x288 with 1 Axes>"
      ]
     },
     "metadata": {},
     "output_type": "display_data"
    },
    {
     "name": "stdout",
     "output_type": "stream",
     "text": [
      "\r",
      "Epoch 868; Time = 79926; avg_rewards = 26.35820895522388; Current test reward = 36.0"
     ]
    }
   ],
   "source": [
    "#Обучаем стратегию\n",
    "reload(breakout)\n",
    "#optimizator = EvolutionStratagy(CreateNewNetwork, elapsed_times=[], avg_rewards=[], test_rewards=[])\n",
    "optimizator = EvolutionStratagy.Load(CreateNewNetwork, 'models/model_breakout-determ_ga_500.dat',\n",
    "                                     'models/params_model_breakout-determ_ga_500.json')\n",
    "optimizator.Train()"
   ]
  },
  {
   "cell_type": "code",
   "execution_count": 238,
   "metadata": {},
   "outputs": [
    {
     "data": {
      "image/png": "[encoded data removed]",
      "text/plain": [
       "<Figure size 432x288 with 1 Axes>"
      ]
     },
     "metadata": {},
     "output_type": "display_data"
    },
    {
     "data": {
      "text/plain": [
       "0.0"
      ]
     },
     "execution_count": 238,
     "metadata": {},
     "output_type": "execute_result"
    },
    {
     "data": {
      "image/png": "[encoded data removed]",
      "text/plain": [
       "<Figure size 432x288 with 1 Axes>"
      ]
     },
     "metadata": {},
     "output_type": "display_data"
    }
   ],
   "source": [
    "#Example game\n",
    "reload(breakout)\n",
    "breakout_vis = breakout.Breakout(game='BreakoutDeterministic-v4', cuda=CUDA)\n",
    "ApplyVBN(result_network, breakout_vis, 777)\n",
    "breakout_vis.GetSummaryScore(result_network, max_screens=100, visualizate=True)"
   ]
  }
 ],
 "metadata": {
  "kernelspec": {
   "display_name": "Python 3",
   "language": "python",
   "name": "python3"
  },
  "language_info": {
   "codemirror_mode": {
    "name": "ipython",
    "version": 3
   },
   "file_extension": ".py",
   "mimetype": "text/x-python",
   "name": "python",
   "nbconvert_exporter": "python",
   "pygments_lexer": "ipython3",
   "version": "3.6.1"
  }
 },
 "nbformat": 4,
 "nbformat_minor": 2
}
