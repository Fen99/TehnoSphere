{
 "cells": [
  {
   "cell_type": "code",
   "execution_count": null,
   "metadata": {
    "collapsed": true
   },
   "outputs": [],
   "source": [
    "# Проверка на тестовом датасете"
   ]
  },
  {
   "cell_type": "code",
   "execution_count": 97,
   "metadata": {
    "collapsed": true
   },
   "outputs": [],
   "source": [
    "import numpy as np\n",
    "import pandas as pd\n",
    "\n",
    "import matplotlib.pyplot as plt\n",
    "import seaborn as sns\n",
    "%matplotlib inline\n",
    "\n",
    "from sklearn.externals import joblib\n",
    "from sklearn.metrics import accuracy_score\n",
    "from sklearn.pipeline import Pipeline\n",
    "from sklearn.decomposition import PCA\n",
    "from sklearn.discriminant_analysis import LinearDiscriminantAnalysis\n",
    "\n",
    "from sklearn.metrics import confusion_matrix\n",
    "\n",
    "import project_module"
   ]
  },
  {
   "cell_type": "code",
   "execution_count": 494,
   "metadata": {},
   "outputs": [
    {
     "data": {
      "text/plain": [
       "<module 'project_module' from 'project_module.py'>"
      ]
     },
     "execution_count": 494,
     "metadata": {},
     "output_type": "execute_result"
    }
   ],
   "source": [
    "reload(project_module)"
   ]
  },
  {
   "cell_type": "markdown",
   "metadata": {},
   "source": [
    "Загрузка данных теста"
   ]
  },
  {
   "cell_type": "code",
   "execution_count": 408,
   "metadata": {
    "collapsed": true
   },
   "outputs": [],
   "source": [
    "# Определим ОС, подготовимся к загрузке\n",
    "OSTYPE = !uname\n",
    "if OSTYPE == ['Linux']:\n",
    "     OSTYPE = 'Linux'\n",
    "else:\n",
    "     OSTYPE = 'Windows'\n",
    "        \n",
    "source_list = None\n",
    "current_dir = None\n",
    "if OSTYPE == 'Linux':\n",
    "    source_list = !find ./for_test/ -type f | sort\n",
    "else:\n",
    "    source_list = !dir \"for_test/30s\" /B /S\n",
    "    current_dir = !echo %cd%\n",
    "    current_dir = current_dir[0]\n",
    "\n",
    "file_list = project_module.GetFilenameList(source_list, OSTYPE, current_dir)"
   ]
  },
  {
   "cell_type": "code",
   "execution_count": 409,
   "metadata": {
    "collapsed": true
   },
   "outputs": [],
   "source": [
    "# Загрузим данные\n",
    "audio_data = project_module.LoadAudio(file_list, True, OSTYPE)"
   ]
  },
  {
   "cell_type": "code",
   "execution_count": 410,
   "metadata": {
    "collapsed": true
   },
   "outputs": [],
   "source": [
    "# И еще нужно загрузить метки\n",
    "labels_df = pd.read_csv(\"models/labels.csv\", index_col=0)\n",
    "labels = labels_df.iloc[:, 0].to_dict()\n",
    "labels_list = labels_df.index.values"
   ]
  },
  {
   "cell_type": "code",
   "execution_count": 425,
   "metadata": {},
   "outputs": [
    {
     "data": {
      "text/html": [
       "<div>\n",
       "<style>\n",
       "    .dataframe thead tr:only-child th {\n",
       "        text-align: right;\n",
       "    }\n",
       "\n",
       "    .dataframe thead th {\n",
       "        text-align: left;\n",
       "    }\n",
       "\n",
       "    .dataframe tbody tr th {\n",
       "        vertical-align: top;\n",
       "    }\n",
       "</style>\n",
       "<table border=\"1\" class=\"dataframe\">\n",
       "  <thead>\n",
       "    <tr style=\"text-align: right;\">\n",
       "      <th></th>\n",
       "      <th>id</th>\n",
       "    </tr>\n",
       "  </thead>\n",
       "  <tbody>\n",
       "    <tr>\n",
       "      <th>blues</th>\n",
       "      <td>0</td>\n",
       "    </tr>\n",
       "    <tr>\n",
       "      <th>classical</th>\n",
       "      <td>1</td>\n",
       "    </tr>\n",
       "    <tr>\n",
       "      <th>country</th>\n",
       "      <td>2</td>\n",
       "    </tr>\n",
       "    <tr>\n",
       "      <th>disco</th>\n",
       "      <td>3</td>\n",
       "    </tr>\n",
       "    <tr>\n",
       "      <th>hiphop</th>\n",
       "      <td>4</td>\n",
       "    </tr>\n",
       "    <tr>\n",
       "      <th>jazz</th>\n",
       "      <td>5</td>\n",
       "    </tr>\n",
       "    <tr>\n",
       "      <th>metal</th>\n",
       "      <td>6</td>\n",
       "    </tr>\n",
       "    <tr>\n",
       "      <th>pop</th>\n",
       "      <td>7</td>\n",
       "    </tr>\n",
       "    <tr>\n",
       "      <th>reggae</th>\n",
       "      <td>8</td>\n",
       "    </tr>\n",
       "    <tr>\n",
       "      <th>rock</th>\n",
       "      <td>9</td>\n",
       "    </tr>\n",
       "  </tbody>\n",
       "</table>\n",
       "</div>"
      ],
      "text/plain": [
       "           id\n",
       "blues       0\n",
       "classical   1\n",
       "country     2\n",
       "disco       3\n",
       "hiphop      4\n",
       "jazz        5\n",
       "metal       6\n",
       "pop         7\n",
       "reggae      8\n",
       "rock        9"
      ]
     },
     "execution_count": 425,
     "metadata": {},
     "output_type": "execute_result"
    }
   ],
   "source": [
    "labels_df"
   ]
  },
  {
   "cell_type": "code",
   "execution_count": null,
   "metadata": {
    "collapsed": true
   },
   "outputs": [],
   "source": [
    "x_means = pd.read_csv(\"means.csv\").iloc[:, 1].values\n",
    "x_stds = pd.read_csv(\"stds.csv\").iloc[:, 1].values"
   ]
  },
  {
   "cell_type": "code",
   "execution_count": 488,
   "metadata": {
    "collapsed": true
   },
   "outputs": [],
   "source": [
    "# Подготовим датасет\n",
    "X_test, y_test = project_module.PrepareDataForModel(audio_data, labels, x_means, x_stds)\n",
    "X_test_nn, y_test_nn = project_module.PrepareDataForModel(audio_data, labels, x_means, x_stds, normalize=False)"
   ]
  },
  {
   "cell_type": "markdown",
   "metadata": {},
   "source": [
    "Загрузка моделей"
   ]
  },
  {
   "cell_type": "code",
   "execution_count": 412,
   "metadata": {
    "collapsed": true
   },
   "outputs": [],
   "source": [
    "# Загрузим модели\n",
    "model_pcasvc = joblib.load('models/pcasvc.pkl') \n",
    "model_lda = joblib.load('models/lda.pkl')\n",
    "model_pcasvc_nn = joblib.load('models/pcasvc_nn.pkl') \n",
    "model_lda_nn = joblib.load('models/lda_nn.pkl')"
   ]
  },
  {
   "cell_type": "markdown",
   "metadata": {},
   "source": [
    "** Момент истины - тест! **"
   ]
  },
  {
   "cell_type": "markdown",
   "metadata": {},
   "source": [
    "* Нормализованные модели"
   ]
  },
  {
   "cell_type": "code",
   "execution_count": 413,
   "metadata": {
    "collapsed": true
   },
   "outputs": [],
   "source": [
    "plt.rcParams[\"axes.grid\"] = False"
   ]
  },
  {
   "cell_type": "code",
   "execution_count": 414,
   "metadata": {},
   "outputs": [
    {
     "data": {
      "text/plain": [
       "LinearDiscriminantAnalysis(n_components=None, priors=None, shrinkage='auto',\n",
       "              solver='lsqr', store_covariance=False, tol=0.0001)"
      ]
     },
     "execution_count": 414,
     "metadata": {},
     "output_type": "execute_result"
    }
   ],
   "source": [
    "model_lda"
   ]
  },
  {
   "cell_type": "code",
   "execution_count": 506,
   "metadata": {
    "collapsed": true
   },
   "outputs": [],
   "source": [
    "def PredictAndShow(model, X, y, name):\n",
    "    y_pred = model.predict(X)\n",
    "    print \"Accuracy\", accuracy_score(y_true=y, y_pred=y_pred)\n",
    "\n",
    "    cnf_matrix = confusion_matrix(y_true=y, y_pred=y_pred)\n",
    "    plt.figure()\n",
    "    project_module.PlotConfusionMatrix(cnf_matrix, classes=labels_list, normalize=True,  title=name)\n",
    "    plt.show()\n",
    "    \n",
    "    return y_pred"
   ]
  },
  {
   "cell_type": "code",
   "execution_count": 489,
   "metadata": {},
   "outputs": [
    {
     "name": "stdout",
     "output_type": "stream",
     "text": [
      "Accuracy 0.418367346939\n",
      "Confusion matrix, without normalization\n",
      "[[2 0 2 1 1 0 0 1 0 3]\n",
      " [0 8 2 0 0 0 0 0 0 0]\n",
      " [0 0 3 1 1 0 0 3 0 2]\n",
      " [0 0 0 5 1 0 0 2 1 1]\n",
      " [0 0 3 2 1 0 0 2 2 0]\n",
      " [0 0 2 1 0 3 0 0 1 2]\n",
      " [1 0 0 1 0 0 6 0 0 2]\n",
      " [0 0 1 1 1 0 0 6 1 0]\n",
      " [0 0 0 1 0 0 0 4 5 0]\n",
      " [0 0 2 1 0 1 1 1 1 2]]\n"
     ]
    },
    {
     "data": {
      "image/png": "[encoded data removed]",
      "text/plain": [
       "<matplotlib.figure.Figure at 0xee5c550>"
      ]
     },
     "metadata": {},
     "output_type": "display_data"
    },
    {
     "name": "stdout",
     "output_type": "stream",
     "text": [
      "[3 7 4 9 0 3 6 9 7 8 4 7 8 9 6 2 2 4 1 1 7 8 9 3 9 3 3 4 7 3 3 3 8 6 9 2 1\n",
      " 5 8 1 2 1 7 7 8 9 7 7 9 2 5 4 8 1 2 8 9 6 5 9 5 8 0 1 9 8 2 2 3 1 7 3 2 7\n",
      " 3 2 7 6 6 7 2 3 7 2 7 7 9 3 3 0 7 7 6 7 2 2 2 8]\n",
      "[3 7 2 2 6 8 6 6 4 8 4 7 8 9 6 2 1 3 1 1 3 8 9 5 2 3 0 7 7 3 7 2 5 9 5 9 1\n",
      " 5 9 1 0 1 2 8 8 0 7 7 6 0 9 0 3 1 2 8 0 6 5 3 5 7 0 1 5 4 2 4 6 1 8 4 4 9\n",
      " 3 7 2 6 6 8 9 4 8 4 2 3 0 9 3 0 4 0 6 7 5 5 1 4]\n"
     ]
    }
   ],
   "source": [
    "print PredictAndShow(model_lda, X_test, y_test, \"LDA\")\n",
    "print y_test"
   ]
  },
  {
   "cell_type": "markdown",
   "metadata": {},
   "source": [
    "Вероятностная классификация"
   ]
  },
  {
   "cell_type": "code",
   "execution_count": 490,
   "metadata": {},
   "outputs": [
    {
     "name": "stdout",
     "output_type": "stream",
     "text": [
      "0.734693877551\n"
     ]
    }
   ],
   "source": [
    "#Минус - поменять порядок\n",
    "y_proba = model_lda.predict_proba(X_test)\n",
    "arg_sort = np.argsort(-y_proba)\n",
    "\n",
    "count_first3 = 0\n",
    "for i, sample in enumerate(arg_sort):\n",
    "    position = np.where(sample == y_test[i])[0][0]\n",
    "    if (position < 3):\n",
    "        count_first3 += 1\n",
    "        \n",
    "# % треков, где нужный жанр находится среди первых 3х предложенных\n",
    "print float(count_first3)/X_test.shape[0]"
   ]
  },
  {
   "cell_type": "code",
   "execution_count": 491,
   "metadata": {},
   "outputs": [
    {
     "name": "stdout",
     "output_type": "stream",
     "text": [
      "Скорее всего, это  disco\n",
      "но это еще может быть rock или metal\n",
      "А на самом деле это disco\n"
     ]
    }
   ],
   "source": [
    "# Вывод 3х предложенных жанров для 1ой песни\n",
    "print \"Скорее всего, это \", labels_df.iloc[arg_sort[0, 0]].name\n",
    "print \"но это еще может быть\", labels_df.iloc[arg_sort[0, 1]].name, \"или\", labels_df.iloc[arg_sort[0, 2]].name\n",
    "print \"А на самом деле это\", labels_df.iloc[y_test[0]].name"
   ]
  },
  {
   "cell_type": "code",
   "execution_count": 492,
   "metadata": {},
   "outputs": [
    {
     "name": "stdout",
     "output_type": "stream",
     "text": [
      "Accuracy 0.448979591837\n",
      "Confusion matrix, without normalization\n",
      "[[1 0 5 2 1 0 0 0 1 0]\n",
      " [0 9 1 0 0 0 0 0 0 0]\n",
      " [0 0 6 1 0 0 0 1 2 0]\n",
      " [0 0 2 5 1 0 0 0 1 1]\n",
      " [0 0 1 0 2 0 0 3 4 0]\n",
      " [0 0 1 1 0 4 0 0 1 2]\n",
      " [0 0 0 0 2 0 6 0 0 2]\n",
      " [0 0 3 2 0 0 0 4 1 0]\n",
      " [0 0 2 1 1 0 0 0 6 0]\n",
      " [0 1 3 1 0 0 2 0 1 1]]\n"
     ]
    },
    {
     "data": {
      "image/png": "[encoded data removed]",
      "text/plain": [
       "<matplotlib.figure.Figure at 0xd8e73860>"
      ]
     },
     "metadata": {},
     "output_type": "display_data"
    },
    {
     "data": {
      "text/plain": [
       "array([3, 7, 8, 2, 4, 3, 6, 9, 7, 8, 4, 7, 8, 9, 6, 2, 2, 4, 1, 1, 3, 8, 6,\n",
       "       3, 8, 2, 3, 3, 8, 3, 3, 3, 8, 6, 9, 2, 1, 5, 8, 1, 2, 1, 7, 8, 8, 3,\n",
       "       7, 7, 4, 2, 1, 4, 8, 1, 2, 4, 2, 6, 2, 9, 5, 2, 0, 1, 9, 8, 2, 2, 9,\n",
       "       1, 2, 8, 8, 2, 3, 2, 2, 6, 6, 8, 2, 7, 2, 8, 2, 3, 8, 3, 2, 2, 7, 2,\n",
       "       6, 2, 5, 5, 1, 4], dtype=int64)"
      ]
     },
     "execution_count": 492,
     "metadata": {},
     "output_type": "execute_result"
    }
   ],
   "source": [
    "PredictAndShow(model_pcasvc, X_test, y_test, \"PCA+SVC\")"
   ]
  },
  {
   "cell_type": "markdown",
   "metadata": {},
   "source": [
    "##### Мы возьмем LDA, поскольку в нем есть вероятностная классификация, что позволит несколько сгладить недостатки классификатора"
   ]
  },
  {
   "cell_type": "markdown",
   "metadata": {},
   "source": [
    "* Ненормализованные модели (на всякий случай)"
   ]
  },
  {
   "cell_type": "code",
   "execution_count": 361,
   "metadata": {},
   "outputs": [
    {
     "name": "stdout",
     "output_type": "stream",
     "text": [
      "Accuracy 0.15306122449\n",
      "Confusion matrix, without normalization\n",
      "[[ 0  0  0  0 10  0  0  0  0  0]\n",
      " [ 0  2  0  0  7  0  0  1  0  0]\n",
      " [ 0  0  0  0  7  0  0  3  0  0]\n",
      " [ 0  0  0  0 10  0  0  0  0  0]\n",
      " [ 0  0  0  0  8  0  0  2  0  0]\n",
      " [ 0  0  0  0  9  0  0  0  0  0]\n",
      " [ 0  0  0  0 10  0  0  0  0  0]\n",
      " [ 0  0  0  0  5  0  0  5  0  0]\n",
      " [ 0  0  0  0 10  0  0  0  0  0]\n",
      " [ 0  0  0  0  9  0  0  0  0  0]]\n"
     ]
    },
    {
     "data": {
      "image/png": "[encoded data removed]",
      "text/plain": [
       "<matplotlib.figure.Figure at 0xfa52320>"
      ]
     },
     "metadata": {},
     "output_type": "display_data"
    }
   ],
   "source": [
    "PredictAndShow(model_lda_nn, X_test_nn, y_test_nn, \"LDA_nn\")"
   ]
  },
  {
   "cell_type": "code",
   "execution_count": 362,
   "metadata": {},
   "outputs": [
    {
     "name": "stdout",
     "output_type": "stream",
     "text": [
      "Accuracy 0.112244897959\n",
      "Confusion matrix, without normalization\n",
      "[[ 1  0  0  0  9  0  0  0  0  0]\n",
      " [ 3  0  0  1  6  0  0  0  0  0]\n",
      " [ 0  0  0  0 10  0  0  0  0  0]\n",
      " [ 0  0  0  0 10  0  0  0  0  0]\n",
      " [ 0  0  0  0 10  0  0  0  0  0]\n",
      " [ 0  0  0  0  9  0  0  0  0  0]\n",
      " [ 1  0  0  0  9  0  0  0  0  0]\n",
      " [ 0  0  0  0 10  0  0  0  0  0]\n",
      " [ 0  0  0  0 10  0  0  0  0  0]\n",
      " [ 1  0  0  0  8  0  0  0  0  0]]\n"
     ]
    },
    {
     "data": {
      "image/png": "[encoded data removed]",
      "text/plain": [
       "<matplotlib.figure.Figure at 0x6acf198>"
      ]
     },
     "metadata": {},
     "output_type": "display_data"
    }
   ],
   "source": [
    "PredictAndShow(model_pcasvc_nn, X_test_nn, y_test_nn, \"PCA+SVC_nn\")"
   ]
  },
  {
   "cell_type": "markdown",
   "metadata": {
    "collapsed": true
   },
   "source": [
    "** Классификация полных песен **"
   ]
  },
  {
   "cell_type": "code",
   "execution_count": 474,
   "metadata": {},
   "outputs": [
    {
     "data": {
      "text/plain": [
       "<module 'project_module' from 'project_module.pyc'>"
      ]
     },
     "execution_count": 474,
     "metadata": {},
     "output_type": "execute_result"
    }
   ],
   "source": [
    "reload(project_module)"
   ]
  },
  {
   "cell_type": "code",
   "execution_count": 475,
   "metadata": {
    "collapsed": true
   },
   "outputs": [],
   "source": [
    "source_list_full = None\n",
    "\n",
    "if OSTYPE == 'Linux':\n",
    "    source_list_full = !find ./for_test/ -type f | sort\n",
    "else:\n",
    "    source_list_full = !dir \"for_test/full\" /B /S\n",
    "    current_dir_full = !echo %cd%\n",
    "\n",
    "file_list_full = project_module.GetFilenameList(source_list_full, OSTYPE, current_dir)"
   ]
  },
  {
   "cell_type": "code",
   "execution_count": 476,
   "metadata": {
    "collapsed": true
   },
   "outputs": [],
   "source": [
    "np.random.seed(7)"
   ]
  },
  {
   "cell_type": "code",
   "execution_count": 496,
   "metadata": {
    "collapsed": true
   },
   "outputs": [],
   "source": [
    "full_song_df = project_module.LoadAudio(file_list_full, False, OSTYPE, crop=True)"
   ]
  },
  {
   "cell_type": "code",
   "execution_count": 497,
   "metadata": {
    "collapsed": true
   },
   "outputs": [],
   "source": [
    "X_full, y_full = project_module.PrepareDataForModel(full_song_df, labels, x_means, x_stds, shuffle=False)"
   ]
  },
  {
   "cell_type": "code",
   "execution_count": 498,
   "metadata": {},
   "outputs": [
    {
     "name": "stdout",
     "output_type": "stream",
     "text": [
      "rock > country > disco , filename: blues_HouseOfTheRisingSunTim Griffin.wav\n",
      "classical > jazz > country , filename: classic_TanetsMalenkihLebedey.wav\n",
      "pop > country > blues , filename: country_BetterManLittleBigTown.wav\n",
      "disco > reggae > hiphop , filename: disco_BodyTalkImagination.wav\n",
      "hiphop > reggae > disco , filename: hiphop_AllEyezOnMe2Pac.wav\n",
      "country > reggae > disco , filename: jazz_RudolphTheRedNosedReindeerEllaFitzgerald.wav\n",
      "metal > disco > hiphop , filename: metal_AtlasRiseMetallica.wav\n",
      "disco > hiphop > rock , filename: pop_IDidSomethingBadTaylorSwift.wav\n",
      "hiphop > reggae > disco , filename: raggae_DanceElephantMan.wav\n",
      "rock > disco > reggae , filename: rock_AreYouDreamingDiaryofMyMisanthropy.wav\n"
     ]
    }
   ],
   "source": [
    "y_full_proba = model_lda.predict_proba(X_full)\n",
    "y_pred = model_lda.predict(X_full)\n",
    "y_full_texts = list()\n",
    "for i, probabilities in enumerate(y_full_proba):\n",
    "    arg_sort = np.argsort(-probabilities)\n",
    "    y_full_texts.append(labels_df.iloc[arg_sort[0]].name+\" > \"+labels_df.iloc[arg_sort[1]].name+\" > \"+\n",
    "                        labels_df.iloc[arg_sort[2]].name)\n",
    "    #print labels_df.iloc[y_pred[i]].name\n",
    "    print y_full_texts[i], \", filename:\", full_song_df.file_name[i]\n",
    "full_song_df.genre = y_full_texts"
   ]
  },
  {
   "cell_type": "code",
   "execution_count": 499,
   "metadata": {
    "scrolled": true
   },
   "outputs": [
    {
     "data": {
      "text/html": [
       "<div>\n",
       "<style>\n",
       "    .dataframe thead tr:only-child th {\n",
       "        text-align: right;\n",
       "    }\n",
       "\n",
       "    .dataframe thead th {\n",
       "        text-align: left;\n",
       "    }\n",
       "\n",
       "    .dataframe tbody tr th {\n",
       "        vertical-align: top;\n",
       "    }\n",
       "</style>\n",
       "<table border=\"1\" class=\"dataframe\">\n",
       "  <thead>\n",
       "    <tr style=\"text-align: right;\">\n",
       "      <th></th>\n",
       "      <th>genre</th>\n",
       "      <th>file_name</th>\n",
       "      <th>samplerate</th>\n",
       "      <th>duration</th>\n",
       "      <th>mean</th>\n",
       "      <th>std</th>\n",
       "      <th>max</th>\n",
       "      <th>min</th>\n",
       "      <th>diff_mean</th>\n",
       "      <th>diff_std</th>\n",
       "    </tr>\n",
       "  </thead>\n",
       "  <tbody>\n",
       "    <tr>\n",
       "      <th>0</th>\n",
       "      <td>rock &gt; country &gt; disco</td>\n",
       "      <td>blues_HouseOfTheRisingSunTim Griffin.wav</td>\n",
       "      <td>22050</td>\n",
       "      <td>297</td>\n",
       "      <td>[-0.775974171359, -9.84999732584, 2.3376178691...</td>\n",
       "      <td>[1.42660048866, 9.79569854043, 7.56859002321, ...</td>\n",
       "      <td>[3.53297216689, 14.0348023127, 27.5367162547, ...</td>\n",
       "      <td>[-3.99973965308, -41.8584880324, -25.482892166...</td>\n",
       "      <td>[-9.07402315448, 12.1876151949, 1.67842922632,...</td>\n",
       "      <td>[11.0310566609, 15.1956369064, 10.5221119268, ...</td>\n",
       "    </tr>\n",
       "    <tr>\n",
       "      <th>1</th>\n",
       "      <td>classical &gt; jazz &gt; country</td>\n",
       "      <td>classic_TanetsMalenkihLebedey.wav</td>\n",
       "      <td>22050</td>\n",
       "      <td>94</td>\n",
       "      <td>[-6.79256189016, 4.98718146093, -21.9960095473...</td>\n",
       "      <td>[1.26361553207, 5.19312440276, 7.78662957604, ...</td>\n",
       "      <td>[-3.6935813685, 17.8401049646, 0.875938762424,...</td>\n",
       "      <td>[-9.72860176688, -13.8038055535, -42.448545313...</td>\n",
       "      <td>[11.7797433511, -26.9831910083, 23.648735443, ...</td>\n",
       "      <td>[5.523304859, 7.93028070669, 8.83717370863, 8....</td>\n",
       "    </tr>\n",
       "    <tr>\n",
       "      <th>2</th>\n",
       "      <td>pop &gt; country &gt; blues</td>\n",
       "      <td>country_BetterManLittleBigTown.wav</td>\n",
       "      <td>22050</td>\n",
       "      <td>259</td>\n",
       "      <td>[-1.79066015491, 11.5743396245, -3.14617859205...</td>\n",
       "      <td>[1.25184033958, 9.07543698209, 9.5962018932, 9...</td>\n",
       "      <td>[1.97134656551, 35.2435723437, 27.34956062, 39...</td>\n",
       "      <td>[-5.7753570552, -32.213248411, -39.8537934423,...</td>\n",
       "      <td>[13.3649997795, -14.7205182166, 6.15500780314,...</td>\n",
       "      <td>[9.71166087536, 12.6660818611, 13.8177065129, ...</td>\n",
       "    </tr>\n",
       "    <tr>\n",
       "      <th>3</th>\n",
       "      <td>disco &gt; reggae &gt; hiphop</td>\n",
       "      <td>disco_BodyTalkImagination.wav</td>\n",
       "      <td>22050</td>\n",
       "      <td>368</td>\n",
       "      <td>[-3.08095000661, -9.66589654515, -6.3403824234...</td>\n",
       "      <td>[1.82748708488, 8.54497186917, 11.0187235513, ...</td>\n",
       "      <td>[0.927470597283, 18.3089695442, 33.333973532, ...</td>\n",
       "      <td>[-10.5544942927, -39.9915700783, -44.639944161...</td>\n",
       "      <td>[-6.58494653853, 3.32551412168, 6.14502803498,...</td>\n",
       "      <td>[9.58050320798, 16.3608231653, 16.503774567, 1...</td>\n",
       "    </tr>\n",
       "    <tr>\n",
       "      <th>4</th>\n",
       "      <td>hiphop &gt; reggae &gt; disco</td>\n",
       "      <td>hiphop_AllEyezOnMe2Pac.wav</td>\n",
       "      <td>22050</td>\n",
       "      <td>246</td>\n",
       "      <td>[0.0494138698102, -12.5159045663, -3.837862128...</td>\n",
       "      <td>[1.60569417022, 11.4609427629, 12.0721221578, ...</td>\n",
       "      <td>[3.22809729588, 19.0315143506, 37.5881872156, ...</td>\n",
       "      <td>[-10.0119307187, -54.9163777413, -41.214845965...</td>\n",
       "      <td>[-12.5653184362, 8.67804243809, 10.5645239971,...</td>\n",
       "      <td>[12.0233583314, 18.7199272792, 16.4918136184, ...</td>\n",
       "    </tr>\n",
       "    <tr>\n",
       "      <th>5</th>\n",
       "      <td>country &gt; reggae &gt; disco</td>\n",
       "      <td>jazz_RudolphTheRedNosedReindeerEllaFitzgerald.wav</td>\n",
       "      <td>22050</td>\n",
       "      <td>93</td>\n",
       "      <td>[-0.576150788156, -7.25155602224, -7.189678483...</td>\n",
       "      <td>[1.15238547123, 9.42317699375, 10.2117959392, ...</td>\n",
       "      <td>[2.87747679255, 10.7248225409, 29.7966835078, ...</td>\n",
       "      <td>[-5.02686435234, -48.8251579914, -35.321960799...</td>\n",
       "      <td>[-6.67540523408, 0.0618775385991, 3.7087869645...</td>\n",
       "      <td>[10.2426916458, 16.1075593801, 13.9065182451, ...</td>\n",
       "    </tr>\n",
       "    <tr>\n",
       "      <th>6</th>\n",
       "      <td>metal &gt; disco &gt; hiphop</td>\n",
       "      <td>metal_AtlasRiseMetallica.wav</td>\n",
       "      <td>22050</td>\n",
       "      <td>388</td>\n",
       "      <td>[1.4676730862, -19.7760110875, -7.7981308614, ...</td>\n",
       "      <td>[0.820434971789, 5.39914556356, 7.41917180901,...</td>\n",
       "      <td>[3.13139989171, 6.9308084966, 19.0627824206, 3...</td>\n",
       "      <td>[-3.15533752586, -33.8903438949, -50.401150273...</td>\n",
       "      <td>[-21.2436841736, 11.977880226, 13.7327052312, ...</td>\n",
       "      <td>[6.05886555188, 10.5626028564, 9.53017373182, ...</td>\n",
       "    </tr>\n",
       "    <tr>\n",
       "      <th>7</th>\n",
       "      <td>disco &gt; hiphop &gt; rock</td>\n",
       "      <td>pop_IDidSomethingBadTaylorSwift.wav</td>\n",
       "      <td>22050</td>\n",
       "      <td>215</td>\n",
       "      <td>[-0.300496643002, -8.63179672854, 0.0787759330...</td>\n",
       "      <td>[1.49672934893, 8.69143578864, 10.0093723318, ...</td>\n",
       "      <td>[4.13506839616, 25.3988992148, 34.7756504926, ...</td>\n",
       "      <td>[-6.04837669513, -53.2663354893, -47.319936946...</td>\n",
       "      <td>[-8.33130008554, 8.71057266161, -9.08768608893...</td>\n",
       "      <td>[9.79006644117, 14.1666385296, 12.9470940368, ...</td>\n",
       "    </tr>\n",
       "    <tr>\n",
       "      <th>8</th>\n",
       "      <td>hiphop &gt; reggae &gt; disco</td>\n",
       "      <td>raggae_DanceElephantMan.wav</td>\n",
       "      <td>22050</td>\n",
       "      <td>211</td>\n",
       "      <td>[0.381908295636, -17.9810947639, -9.7196480368...</td>\n",
       "      <td>[1.02313991119, 7.38699127905, 9.2550261092, 1...</td>\n",
       "      <td>[2.95319935828, 1.3902141884, 25.2504265547, 3...</td>\n",
       "      <td>[-3.04503504939, -45.3526682227, -45.327472199...</td>\n",
       "      <td>[-18.3630030595, 8.26144672703, 8.38956319377,...</td>\n",
       "      <td>[7.87208875742, 10.8744410472, 12.3811182047, ...</td>\n",
       "    </tr>\n",
       "    <tr>\n",
       "      <th>9</th>\n",
       "      <td>rock &gt; disco &gt; reggae</td>\n",
       "      <td>rock_AreYouDreamingDiaryofMyMisanthropy.wav</td>\n",
       "      <td>22050</td>\n",
       "      <td>175</td>\n",
       "      <td>[0.307121811045, -7.12124361653, -24.657819870...</td>\n",
       "      <td>[1.26512845178, 8.12394946206, 9.58967294921, ...</td>\n",
       "      <td>[2.82148835301, 16.5579328789, 25.181060562, 2...</td>\n",
       "      <td>[-4.13881949982, -40.9141142044, -56.693936964...</td>\n",
       "      <td>[-7.42836542757, -17.5365762541, 27.5220710166...</td>\n",
       "      <td>[8.58425603453, 15.7674164274, 14.2716355628, ...</td>\n",
       "    </tr>\n",
       "  </tbody>\n",
       "</table>\n",
       "</div>"
      ],
      "text/plain": [
       "                        genre  \\\n",
       "0      rock > country > disco   \n",
       "1  classical > jazz > country   \n",
       "2       pop > country > blues   \n",
       "3     disco > reggae > hiphop   \n",
       "4     hiphop > reggae > disco   \n",
       "5    country > reggae > disco   \n",
       "6      metal > disco > hiphop   \n",
       "7       disco > hiphop > rock   \n",
       "8     hiphop > reggae > disco   \n",
       "9       rock > disco > reggae   \n",
       "\n",
       "                                           file_name samplerate duration  \\\n",
       "0           blues_HouseOfTheRisingSunTim Griffin.wav      22050      297   \n",
       "1                  classic_TanetsMalenkihLebedey.wav      22050       94   \n",
       "2                 country_BetterManLittleBigTown.wav      22050      259   \n",
       "3                      disco_BodyTalkImagination.wav      22050      368   \n",
       "4                         hiphop_AllEyezOnMe2Pac.wav      22050      246   \n",
       "5  jazz_RudolphTheRedNosedReindeerEllaFitzgerald.wav      22050       93   \n",
       "6                       metal_AtlasRiseMetallica.wav      22050      388   \n",
       "7                pop_IDidSomethingBadTaylorSwift.wav      22050      215   \n",
       "8                        raggae_DanceElephantMan.wav      22050      211   \n",
       "9        rock_AreYouDreamingDiaryofMyMisanthropy.wav      22050      175   \n",
       "\n",
       "                                                mean  \\\n",
       "0  [-0.775974171359, -9.84999732584, 2.3376178691...   \n",
       "1  [-6.79256189016, 4.98718146093, -21.9960095473...   \n",
       "2  [-1.79066015491, 11.5743396245, -3.14617859205...   \n",
       "3  [-3.08095000661, -9.66589654515, -6.3403824234...   \n",
       "4  [0.0494138698102, -12.5159045663, -3.837862128...   \n",
       "5  [-0.576150788156, -7.25155602224, -7.189678483...   \n",
       "6  [1.4676730862, -19.7760110875, -7.7981308614, ...   \n",
       "7  [-0.300496643002, -8.63179672854, 0.0787759330...   \n",
       "8  [0.381908295636, -17.9810947639, -9.7196480368...   \n",
       "9  [0.307121811045, -7.12124361653, -24.657819870...   \n",
       "\n",
       "                                                 std  \\\n",
       "0  [1.42660048866, 9.79569854043, 7.56859002321, ...   \n",
       "1  [1.26361553207, 5.19312440276, 7.78662957604, ...   \n",
       "2  [1.25184033958, 9.07543698209, 9.5962018932, 9...   \n",
       "3  [1.82748708488, 8.54497186917, 11.0187235513, ...   \n",
       "4  [1.60569417022, 11.4609427629, 12.0721221578, ...   \n",
       "5  [1.15238547123, 9.42317699375, 10.2117959392, ...   \n",
       "6  [0.820434971789, 5.39914556356, 7.41917180901,...   \n",
       "7  [1.49672934893, 8.69143578864, 10.0093723318, ...   \n",
       "8  [1.02313991119, 7.38699127905, 9.2550261092, 1...   \n",
       "9  [1.26512845178, 8.12394946206, 9.58967294921, ...   \n",
       "\n",
       "                                                 max  \\\n",
       "0  [3.53297216689, 14.0348023127, 27.5367162547, ...   \n",
       "1  [-3.6935813685, 17.8401049646, 0.875938762424,...   \n",
       "2  [1.97134656551, 35.2435723437, 27.34956062, 39...   \n",
       "3  [0.927470597283, 18.3089695442, 33.333973532, ...   \n",
       "4  [3.22809729588, 19.0315143506, 37.5881872156, ...   \n",
       "5  [2.87747679255, 10.7248225409, 29.7966835078, ...   \n",
       "6  [3.13139989171, 6.9308084966, 19.0627824206, 3...   \n",
       "7  [4.13506839616, 25.3988992148, 34.7756504926, ...   \n",
       "8  [2.95319935828, 1.3902141884, 25.2504265547, 3...   \n",
       "9  [2.82148835301, 16.5579328789, 25.181060562, 2...   \n",
       "\n",
       "                                                 min  \\\n",
       "0  [-3.99973965308, -41.8584880324, -25.482892166...   \n",
       "1  [-9.72860176688, -13.8038055535, -42.448545313...   \n",
       "2  [-5.7753570552, -32.213248411, -39.8537934423,...   \n",
       "3  [-10.5544942927, -39.9915700783, -44.639944161...   \n",
       "4  [-10.0119307187, -54.9163777413, -41.214845965...   \n",
       "5  [-5.02686435234, -48.8251579914, -35.321960799...   \n",
       "6  [-3.15533752586, -33.8903438949, -50.401150273...   \n",
       "7  [-6.04837669513, -53.2663354893, -47.319936946...   \n",
       "8  [-3.04503504939, -45.3526682227, -45.327472199...   \n",
       "9  [-4.13881949982, -40.9141142044, -56.693936964...   \n",
       "\n",
       "                                           diff_mean  \\\n",
       "0  [-9.07402315448, 12.1876151949, 1.67842922632,...   \n",
       "1  [11.7797433511, -26.9831910083, 23.648735443, ...   \n",
       "2  [13.3649997795, -14.7205182166, 6.15500780314,...   \n",
       "3  [-6.58494653853, 3.32551412168, 6.14502803498,...   \n",
       "4  [-12.5653184362, 8.67804243809, 10.5645239971,...   \n",
       "5  [-6.67540523408, 0.0618775385991, 3.7087869645...   \n",
       "6  [-21.2436841736, 11.977880226, 13.7327052312, ...   \n",
       "7  [-8.33130008554, 8.71057266161, -9.08768608893...   \n",
       "8  [-18.3630030595, 8.26144672703, 8.38956319377,...   \n",
       "9  [-7.42836542757, -17.5365762541, 27.5220710166...   \n",
       "\n",
       "                                            diff_std  \n",
       "0  [11.0310566609, 15.1956369064, 10.5221119268, ...  \n",
       "1  [5.523304859, 7.93028070669, 8.83717370863, 8....  \n",
       "2  [9.71166087536, 12.6660818611, 13.8177065129, ...  \n",
       "3  [9.58050320798, 16.3608231653, 16.503774567, 1...  \n",
       "4  [12.0233583314, 18.7199272792, 16.4918136184, ...  \n",
       "5  [10.2426916458, 16.1075593801, 13.9065182451, ...  \n",
       "6  [6.05886555188, 10.5626028564, 9.53017373182, ...  \n",
       "7  [9.79006644117, 14.1666385296, 12.9470940368, ...  \n",
       "8  [7.87208875742, 10.8744410472, 12.3811182047, ...  \n",
       "9  [8.58425603453, 15.7674164274, 14.2716355628, ...  "
      ]
     },
     "execution_count": 499,
     "metadata": {},
     "output_type": "execute_result"
    }
   ],
   "source": [
    "full_song_df"
   ]
  },
  {
   "cell_type": "markdown",
   "metadata": {
    "collapsed": true
   },
   "source": [
    "Тест датасета полных песен"
   ]
  },
  {
   "cell_type": "code",
   "execution_count": 481,
   "metadata": {
    "collapsed": true
   },
   "outputs": [],
   "source": [
    "source_list_all_full = None\n",
    "if OSTYPE == 'Linux':\n",
    "    source_list_all_full = !find ./for_test/full_all -type f | sort\n",
    "else:\n",
    "    source_list_all_full = !dir \"for_test/full_all\" /B /S\n",
    "\n",
    "file_list = project_module.GetFilenameList(source_list_all_full, OSTYPE, current_dir)"
   ]
  },
  {
   "cell_type": "code",
   "execution_count": 503,
   "metadata": {
    "collapsed": true
   },
   "outputs": [],
   "source": [
    "np.random.seed(13)\n",
    "audio_data_full_all = project_module.LoadAudio(file_list, True, OSTYPE, crop=True)"
   ]
  },
  {
   "cell_type": "code",
   "execution_count": 507,
   "metadata": {},
   "outputs": [
    {
     "name": "stdout",
     "output_type": "stream",
     "text": [
      "Accuracy 0.443298969072\n",
      "Normalized confusion matrix\n",
      "[[ 0.5         0.          0.1         0.          0.1         0.          0.\n",
      "   0.          0.          0.3       ]\n",
      " [ 0.          0.88888889  0.11111111  0.          0.          0.          0.\n",
      "   0.          0.          0.        ]\n",
      " [ 0.1         0.          0.3         0.1         0.1         0.          0.\n",
      "   0.2         0.          0.2       ]\n",
      " [ 0.          0.          0.          0.5         0.1         0.          0.\n",
      "   0.2         0.1         0.1       ]\n",
      " [ 0.          0.          0.          0.3         0.3         0.          0.\n",
      "   0.2         0.2         0.        ]\n",
      " [ 0.          0.11111111  0.          0.44444444  0.11111111  0.22222222\n",
      "   0.          0.          0.          0.11111111]\n",
      " [ 0.          0.          0.          0.2         0.1         0.          0.5\n",
      "   0.          0.          0.2       ]\n",
      " [ 0.          0.          0.          0.2         0.          0.          0.\n",
      "   0.7         0.          0.1       ]\n",
      " [ 0.          0.          0.          0.2         0.1         0.          0.\n",
      "   0.4         0.3         0.        ]\n",
      " [ 0.          0.          0.11111111  0.44444444  0.11111111  0.11111111\n",
      "   0.          0.          0.          0.22222222]]\n"
     ]
    },
    {
     "data": {
      "image/png": "[encoded data removed]",
      "text/plain": [
       "<matplotlib.figure.Figure at 0xf3f7160>"
      ]
     },
     "metadata": {},
     "output_type": "display_data"
    },
    {
     "data": {
      "text/plain": [
       "array([4, 0, 2, 0, 0, 9, 0, 9, 0, 9, 1, 1, 1, 2, 1, 1, 1, 1, 1, 2, 2, 2, 7,\n",
       "       4, 9, 7, 9, 3, 0, 7, 4, 9, 3, 7, 3, 8, 3, 3, 3, 4, 3, 4, 4, 3, 3, 7,\n",
       "       8, 7, 8, 3, 9, 3, 3, 1, 5, 5, 3, 4, 6, 6, 9, 3, 3, 6, 6, 6, 4, 9, 7,\n",
       "       7, 7, 3, 3, 9, 7, 7, 7, 7, 8, 3, 8, 7, 7, 7, 4, 3, 7, 8, 4, 3, 2, 9,\n",
       "       5, 9, 3, 3, 3], dtype=int64)"
      ]
     },
     "execution_count": 507,
     "metadata": {},
     "output_type": "execute_result"
    }
   ],
   "source": [
    "X_test_full_all, y_test_full_all = project_module.PrepareDataForModel(audio_data_full_all, labels, x_means, x_stds, shuffle=False)\n",
    "PredictAndShow(model_lda, X_test_full_all, y_test_full_all, \"LDA Full all\")"
   ]
  },
  {
   "cell_type": "code",
   "execution_count": 505,
   "metadata": {},
   "outputs": [
    {
     "name": "stdout",
     "output_type": "stream",
     "text": [
      "0.670103092784\n"
     ]
    }
   ],
   "source": [
    "#Минус - поменять порядок\n",
    "y_proba_full_all = model_lda.predict_proba(X_test_full_all)\n",
    "arg_sort_full_all = np.argsort(-y_proba_full_all)\n",
    "\n",
    "count_first3 = 0\n",
    "for i, sample in enumerate(arg_sort_full_all):\n",
    "    position = np.where(sample == y_test_full_all[i])[0][0]\n",
    "    if (position < 3):\n",
    "        count_first3 += 1\n",
    "        \n",
    "# % треков, где нужный жанр находится среди первых 3х предложенных\n",
    "print float(count_first3)/X_test_full_all.shape[0]"
   ]
  },
  {
   "cell_type": "code",
   "execution_count": null,
   "metadata": {
    "collapsed": true
   },
   "outputs": [],
   "source": []
  }
 ],
 "metadata": {
  "kernelspec": {
   "display_name": "Python 2",
   "language": "python",
   "name": "python2"
  },
  "language_info": {
   "codemirror_mode": {
    "name": "ipython",
    "version": 2
   },
   "file_extension": ".py",
   "mimetype": "text/x-python",
   "name": "python",
   "nbconvert_exporter": "python",
   "pygments_lexer": "ipython2",
   "version": "2.7.13"
  }
 },
 "nbformat": 4,
 "nbformat_minor": 2
}
