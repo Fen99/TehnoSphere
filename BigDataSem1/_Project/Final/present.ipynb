{
 "cells": [
  {
   "cell_type": "code",
   "execution_count": 1,
   "metadata": {},
   "outputs": [],
   "source": [
    "import numpy as np\n",
    "import pandas as pd\n",
    "\n",
    "import matplotlib.pyplot as plt\n",
    "import seaborn as sns\n",
    "%matplotlib inline\n",
    "\n",
    "from sklearn.externals import joblib\n",
    "from sklearn.metrics import accuracy_score\n",
    "from sklearn.pipeline import Pipeline\n",
    "from sklearn.decomposition import PCA\n",
    "from sklearn.discriminant_analysis import LinearDiscriminantAnalysis\n",
    "\n",
    "from sklearn.metrics import confusion_matrix\n",
    "\n",
    "import project_module"
   ]
  },
  {
   "cell_type": "markdown",
   "metadata": {},
   "source": [
    "** Создание датасета **"
   ]
  },
  {
   "cell_type": "markdown",
   "metadata": {},
   "source": [
    "Будем исползовать датасет GTZAN dataset.  \n",
    "http://marsyasweb.appspot.com/download/data_sets/\n",
    "\n",
    "В нем содержится 30-ти секундные фрагменты 1000 аудиозаписей следующих жанров: (blues, classical, country, disco, hiphop, jazz, metal, pop, reggae, rock), по 100 аудио на каждый жанр."
   ]
  },
  {
   "cell_type": "markdown",
   "metadata": {},
   "source": [
    "Для сравнения аудиозаписей будем использовать мел-кепстральные коэффициенты. Эти коэффициенты - своеобразное представление энергии спектра сигнала.................."
   ]
  },
  {
   "cell_type": "code",
   "execution_count": 6,
   "metadata": {},
   "outputs": [],
   "source": [
    "data = pd.read_csv('dataset.csv', sep=',', index_col=0)"
   ]
  },
  {
   "cell_type": "code",
   "execution_count": 7,
   "metadata": {},
   "outputs": [
    {
     "data": {
      "text/html": [
       "<div>\n",
       "<style>\n",
       "    .dataframe thead tr:only-child th {\n",
       "        text-align: right;\n",
       "    }\n",
       "\n",
       "    .dataframe thead th {\n",
       "        text-align: left;\n",
       "    }\n",
       "\n",
       "    .dataframe tbody tr th {\n",
       "        vertical-align: top;\n",
       "    }\n",
       "</style>\n",
       "<table border=\"1\" class=\"dataframe\">\n",
       "  <thead>\n",
       "    <tr style=\"text-align: right;\">\n",
       "      <th></th>\n",
       "      <th>genre</th>\n",
       "      <th>file_name</th>\n",
       "      <th>samplerate</th>\n",
       "      <th>duration</th>\n",
       "      <th>mean</th>\n",
       "      <th>std</th>\n",
       "      <th>max</th>\n",
       "      <th>min</th>\n",
       "      <th>diff_mean</th>\n",
       "      <th>diff_std</th>\n",
       "    </tr>\n",
       "  </thead>\n",
       "  <tbody>\n",
       "    <tr>\n",
       "      <th>0</th>\n",
       "      <td>blues</td>\n",
       "      <td>blues.00000.au</td>\n",
       "      <td>22050</td>\n",
       "      <td>30</td>\n",
       "      <td>[ -1.50538264  -1.66745918 -15.21220703   4.23...</td>\n",
       "      <td>[  1.14202743   6.01268043   8.70403617   9.26...</td>\n",
       "      <td>[  1.01400399  13.70942565  11.68709764  29.98...</td>\n",
       "      <td>[ -4.85854815 -26.57615926 -42.66757796 -28.61...</td>\n",
       "      <td>[ -1.62076547e-01  -1.35447478e+01   1.9444190...</td>\n",
       "      <td>[  6.11997806  12.51046351  11.42995379  11.04...</td>\n",
       "    </tr>\n",
       "    <tr>\n",
       "      <th>1</th>\n",
       "      <td>blues</td>\n",
       "      <td>blues.00001.au</td>\n",
       "      <td>22050</td>\n",
       "      <td>30</td>\n",
       "      <td>[ -3.27341626e+00   8.52053789e-01  -2.8907873...</td>\n",
       "      <td>[  2.1263558    8.1618835   12.70405381  12.34...</td>\n",
       "      <td>[  1.23421579  24.11494854  25.19993601  36.74...</td>\n",
       "      <td>[ -9.67297876 -32.81133142 -51.11621653 -34.84...</td>\n",
       "      <td>[  4.12547005  -3.74284114   7.23281575 -11.75...</td>\n",
       "      <td>[  9.13983632  16.90063541  17.14793627  13.05...</td>\n",
       "    </tr>\n",
       "    <tr>\n",
       "      <th>2</th>\n",
       "      <td>blues</td>\n",
       "      <td>blues.00002.au</td>\n",
       "      <td>22050</td>\n",
       "      <td>30</td>\n",
       "      <td>[ -9.43213843e-01   3.49022076e+00  -1.8450147...</td>\n",
       "      <td>[  1.30325969   7.3102339    9.75454936   9.58...</td>\n",
       "      <td>[  1.94451093  30.92381031  17.56145658  42.21...</td>\n",
       "      <td>[ -7.1497022  -42.67495042 -47.42781209 -27.95...</td>\n",
       "      <td>[  4.43343461e+00  -2.19403685e+01   1.8106328...</td>\n",
       "      <td>[  7.93639193  12.67006977  11.11101465  14.64...</td>\n",
       "    </tr>\n",
       "    <tr>\n",
       "      <th>3</th>\n",
       "      <td>blues</td>\n",
       "      <td>blues.00003.au</td>\n",
       "      <td>22050</td>\n",
       "      <td>30</td>\n",
       "      <td>[ -3.39170231   9.25209884  -4.38120259   4.95...</td>\n",
       "      <td>[  1.56811584   7.69374057   8.64939629   8.37...</td>\n",
       "      <td>[  0.50526175  35.59888198  17.72606136  30.46...</td>\n",
       "      <td>[ -7.70663011 -21.78396563 -39.60813859 -23.36...</td>\n",
       "      <td>[ 12.64380114 -13.63330142   9.33408447 -13.09...</td>\n",
       "      <td>[  8.32276957  12.48046539  10.38500642  11.23...</td>\n",
       "    </tr>\n",
       "    <tr>\n",
       "      <th>4</th>\n",
       "      <td>blues</td>\n",
       "      <td>blues.00004.au</td>\n",
       "      <td>22050</td>\n",
       "      <td>30</td>\n",
       "      <td>[ -1.96142936   0.93701381 -23.26517463  -1.32...</td>\n",
       "      <td>[  1.88318814   9.51916117   8.22781382   9.36...</td>\n",
       "      <td>[  2.68423869  22.249557     1.29087329  38.57...</td>\n",
       "      <td>[ -7.535371   -41.6089841  -48.90922228 -25.54...</td>\n",
       "      <td>[  2.89844317 -24.20218844  21.94310662 -28.03...</td>\n",
       "      <td>[ 10.80234986  11.22449014  13.26978398  14.48...</td>\n",
       "    </tr>\n",
       "  </tbody>\n",
       "</table>\n",
       "</div>"
      ],
      "text/plain": [
       "   genre       file_name  samplerate  duration  \\\n",
       "0  blues  blues.00000.au       22050        30   \n",
       "1  blues  blues.00001.au       22050        30   \n",
       "2  blues  blues.00002.au       22050        30   \n",
       "3  blues  blues.00003.au       22050        30   \n",
       "4  blues  blues.00004.au       22050        30   \n",
       "\n",
       "                                                mean  \\\n",
       "0  [ -1.50538264  -1.66745918 -15.21220703   4.23...   \n",
       "1  [ -3.27341626e+00   8.52053789e-01  -2.8907873...   \n",
       "2  [ -9.43213843e-01   3.49022076e+00  -1.8450147...   \n",
       "3  [ -3.39170231   9.25209884  -4.38120259   4.95...   \n",
       "4  [ -1.96142936   0.93701381 -23.26517463  -1.32...   \n",
       "\n",
       "                                                 std  \\\n",
       "0  [  1.14202743   6.01268043   8.70403617   9.26...   \n",
       "1  [  2.1263558    8.1618835   12.70405381  12.34...   \n",
       "2  [  1.30325969   7.3102339    9.75454936   9.58...   \n",
       "3  [  1.56811584   7.69374057   8.64939629   8.37...   \n",
       "4  [  1.88318814   9.51916117   8.22781382   9.36...   \n",
       "\n",
       "                                                 max  \\\n",
       "0  [  1.01400399  13.70942565  11.68709764  29.98...   \n",
       "1  [  1.23421579  24.11494854  25.19993601  36.74...   \n",
       "2  [  1.94451093  30.92381031  17.56145658  42.21...   \n",
       "3  [  0.50526175  35.59888198  17.72606136  30.46...   \n",
       "4  [  2.68423869  22.249557     1.29087329  38.57...   \n",
       "\n",
       "                                                 min  \\\n",
       "0  [ -4.85854815 -26.57615926 -42.66757796 -28.61...   \n",
       "1  [ -9.67297876 -32.81133142 -51.11621653 -34.84...   \n",
       "2  [ -7.1497022  -42.67495042 -47.42781209 -27.95...   \n",
       "3  [ -7.70663011 -21.78396563 -39.60813859 -23.36...   \n",
       "4  [ -7.535371   -41.6089841  -48.90922228 -25.54...   \n",
       "\n",
       "                                           diff_mean  \\\n",
       "0  [ -1.62076547e-01  -1.35447478e+01   1.9444190...   \n",
       "1  [  4.12547005  -3.74284114   7.23281575 -11.75...   \n",
       "2  [  4.43343461e+00  -2.19403685e+01   1.8106328...   \n",
       "3  [ 12.64380114 -13.63330142   9.33408447 -13.09...   \n",
       "4  [  2.89844317 -24.20218844  21.94310662 -28.03...   \n",
       "\n",
       "                                            diff_std  \n",
       "0  [  6.11997806  12.51046351  11.42995379  11.04...  \n",
       "1  [  9.13983632  16.90063541  17.14793627  13.05...  \n",
       "2  [  7.93639193  12.67006977  11.11101465  14.64...  \n",
       "3  [  8.32276957  12.48046539  10.38500642  11.23...  \n",
       "4  [ 10.80234986  11.22449014  13.26978398  14.48...  "
      ]
     },
     "execution_count": 7,
     "metadata": {},
     "output_type": "execute_result"
    }
   ],
   "source": [
    "data.head()"
   ]
  },
  {
   "cell_type": "code",
   "execution_count": 10,
   "metadata": {},
   "outputs": [],
   "source": [
    "# И еще нужно загрузить метки\n",
    "labels_df = pd.read_csv(\"models/labels.csv\", index_col=0)\n",
    "labels = labels_df.iloc[:, 0].to_dict()\n",
    "labels_list = labels_df.index.values"
   ]
  },
  {
   "cell_type": "code",
   "execution_count": 11,
   "metadata": {},
   "outputs": [
    {
     "ename": "ValueError",
     "evalue": "setting an array element with a sequence.",
     "output_type": "error",
     "traceback": [
      "\u001b[0;31m---------------------------------------------------------------------------\u001b[0m",
      "\u001b[0;31mValueError\u001b[0m                                Traceback (most recent call last)",
      "\u001b[0;32m<ipython-input-11-b433bb1e4aa4>\u001b[0m in \u001b[0;36m<module>\u001b[0;34m()\u001b[0m\n\u001b[0;32m----> 1\u001b[0;31m \u001b[0mX\u001b[0m\u001b[0;34m,\u001b[0m \u001b[0my\u001b[0m \u001b[0;34m=\u001b[0m \u001b[0mproject_module\u001b[0m\u001b[0;34m.\u001b[0m\u001b[0mPrepareDataForModel\u001b[0m\u001b[0;34m(\u001b[0m\u001b[0mdata\u001b[0m\u001b[0;34m,\u001b[0m \u001b[0mlabels\u001b[0m\u001b[0;34m)\u001b[0m\u001b[0;34m\u001b[0m\u001b[0m\n\u001b[0m",
      "\u001b[0;32m/home/serovnm/Technosphere/TehnoSphere/BigDataSem1/_Project/Final/project_module.pyc\u001b[0m in \u001b[0;36mPrepareDataForModel\u001b[0;34m(dataframe, labels_dict, normalize, shuffle)\u001b[0m\n\u001b[1;32m    104\u001b[0m             \u001b[0mres_prep\u001b[0m \u001b[0;34m+=\u001b[0m \u001b[0mlist\u001b[0m\u001b[0;34m(\u001b[0m\u001b[0melement\u001b[0m\u001b[0;34m)\u001b[0m\u001b[0;34m\u001b[0m\u001b[0m\n\u001b[1;32m    105\u001b[0m         \u001b[0mres\u001b[0m\u001b[0;34m.\u001b[0m\u001b[0mappend\u001b[0m\u001b[0;34m(\u001b[0m\u001b[0mres_prep\u001b[0m\u001b[0;34m)\u001b[0m\u001b[0;34m\u001b[0m\u001b[0m\n\u001b[0;32m--> 106\u001b[0;31m     \u001b[0mX\u001b[0m \u001b[0;34m=\u001b[0m \u001b[0mnp\u001b[0m\u001b[0;34m.\u001b[0m\u001b[0marray\u001b[0m\u001b[0;34m(\u001b[0m\u001b[0mres\u001b[0m\u001b[0;34m,\u001b[0m \u001b[0mdtype\u001b[0m\u001b[0;34m=\u001b[0m\u001b[0mnp\u001b[0m\u001b[0;34m.\u001b[0m\u001b[0mfloat32\u001b[0m\u001b[0;34m)\u001b[0m\u001b[0;34m\u001b[0m\u001b[0m\n\u001b[0m\u001b[1;32m    107\u001b[0m     \u001b[0;32mdel\u001b[0m \u001b[0mres\u001b[0m\u001b[0;34m\u001b[0m\u001b[0m\n\u001b[1;32m    108\u001b[0m \u001b[0;34m\u001b[0m\u001b[0m\n",
      "\u001b[0;31mValueError\u001b[0m: setting an array element with a sequence."
     ]
    }
   ],
   "source": [
    "X, y = project_module.PrepareDataForModel(data, labels)"
   ]
  },
  {
   "cell_type": "code",
   "execution_count": null,
   "metadata": {},
   "outputs": [],
   "source": []
  }
 ],
 "metadata": {
  "kernelspec": {
   "display_name": "Python 2",
   "language": "python",
   "name": "python2"
  },
  "language_info": {
   "codemirror_mode": {
    "name": "ipython",
    "version": 2
   },
   "file_extension": ".py",
   "mimetype": "text/x-python",
   "name": "python",
   "nbconvert_exporter": "python",
   "pygments_lexer": "ipython2",
   "version": "2.7.12"
  }
 },
 "nbformat": 4,
 "nbformat_minor": 2
}
