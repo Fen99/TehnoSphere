{
 "cells": [
  {
   "cell_type": "code",
   "execution_count": null,
   "metadata": {
    "collapsed": true
   },
   "outputs": [],
   "source": [
    "# Проверка на тестовом датасете"
   ]
  },
  {
   "cell_type": "code",
   "execution_count": 97,
   "metadata": {
    "collapsed": true
   },
   "outputs": [],
   "source": [
    "import numpy as np\n",
    "import pandas as pd\n",
    "\n",
    "import matplotlib.pyplot as plt\n",
    "import seaborn as sns\n",
    "%matplotlib inline\n",
    "\n",
    "from sklearn.externals import joblib\n",
    "from sklearn.metrics import accuracy_score\n",
    "from sklearn.pipeline import Pipeline\n",
    "from sklearn.decomposition import PCA\n",
    "from sklearn.discriminant_analysis import LinearDiscriminantAnalysis\n",
    "\n",
    "from sklearn.metrics import confusion_matrix\n",
    "\n",
    "import project_module"
   ]
  },
  {
   "cell_type": "code",
   "execution_count": 319,
   "metadata": {},
   "outputs": [
    {
     "data": {
      "text/plain": [
       "<module 'project_module' from 'project_module.py'>"
      ]
     },
     "execution_count": 319,
     "metadata": {},
     "output_type": "execute_result"
    }
   ],
   "source": [
    "reload(project_module)"
   ]
  },
  {
   "cell_type": "markdown",
   "metadata": {},
   "source": [
    "Загрузка данных теста"
   ]
  },
  {
   "cell_type": "code",
   "execution_count": 408,
   "metadata": {
    "collapsed": true
   },
   "outputs": [],
   "source": [
    "# Определим ОС, подготовимся к загрузке\n",
    "OSTYPE = !uname\n",
    "if OSTYPE == ['Linux']:\n",
    "     OSTYPE = 'Linux'\n",
    "else:\n",
    "     OSTYPE = 'Windows'\n",
    "        \n",
    "source_list = None\n",
    "current_dir = None\n",
    "if OSTYPE == 'Linux':\n",
    "    source_list = !find ./for_test/ -type f | sort\n",
    "else:\n",
    "    source_list = !dir \"for_test/30s\" /B /S\n",
    "    current_dir = !echo %cd%\n",
    "    current_dir = current_dir[0]\n",
    "\n",
    "file_list = project_module.GetFilenameList(source_list, OSTYPE, current_dir)"
   ]
  },
  {
   "cell_type": "code",
   "execution_count": 409,
   "metadata": {
    "collapsed": true
   },
   "outputs": [],
   "source": [
    "# Загрузим данные\n",
    "audio_data = project_module.LoadAudio(file_list, True, OSTYPE)"
   ]
  },
  {
   "cell_type": "code",
   "execution_count": 410,
   "metadata": {
    "collapsed": true
   },
   "outputs": [],
   "source": [
    "# И еще нужно загрузить метки\n",
    "labels_df = pd.read_csv(\"models/labels.csv\", index_col=0)\n",
    "labels = labels_df.iloc[:, 0].to_dict()\n",
    "labels_list = labels_df.index.values"
   ]
  },
  {
   "cell_type": "code",
   "execution_count": 425,
   "metadata": {},
   "outputs": [
    {
     "data": {
      "text/html": [
       "<div>\n",
       "<style>\n",
       "    .dataframe thead tr:only-child th {\n",
       "        text-align: right;\n",
       "    }\n",
       "\n",
       "    .dataframe thead th {\n",
       "        text-align: left;\n",
       "    }\n",
       "\n",
       "    .dataframe tbody tr th {\n",
       "        vertical-align: top;\n",
       "    }\n",
       "</style>\n",
       "<table border=\"1\" class=\"dataframe\">\n",
       "  <thead>\n",
       "    <tr style=\"text-align: right;\">\n",
       "      <th></th>\n",
       "      <th>id</th>\n",
       "    </tr>\n",
       "  </thead>\n",
       "  <tbody>\n",
       "    <tr>\n",
       "      <th>blues</th>\n",
       "      <td>0</td>\n",
       "    </tr>\n",
       "    <tr>\n",
       "      <th>classical</th>\n",
       "      <td>1</td>\n",
       "    </tr>\n",
       "    <tr>\n",
       "      <th>country</th>\n",
       "      <td>2</td>\n",
       "    </tr>\n",
       "    <tr>\n",
       "      <th>disco</th>\n",
       "      <td>3</td>\n",
       "    </tr>\n",
       "    <tr>\n",
       "      <th>hiphop</th>\n",
       "      <td>4</td>\n",
       "    </tr>\n",
       "    <tr>\n",
       "      <th>jazz</th>\n",
       "      <td>5</td>\n",
       "    </tr>\n",
       "    <tr>\n",
       "      <th>metal</th>\n",
       "      <td>6</td>\n",
       "    </tr>\n",
       "    <tr>\n",
       "      <th>pop</th>\n",
       "      <td>7</td>\n",
       "    </tr>\n",
       "    <tr>\n",
       "      <th>reggae</th>\n",
       "      <td>8</td>\n",
       "    </tr>\n",
       "    <tr>\n",
       "      <th>rock</th>\n",
       "      <td>9</td>\n",
       "    </tr>\n",
       "  </tbody>\n",
       "</table>\n",
       "</div>"
      ],
      "text/plain": [
       "           id\n",
       "blues       0\n",
       "classical   1\n",
       "country     2\n",
       "disco       3\n",
       "hiphop      4\n",
       "jazz        5\n",
       "metal       6\n",
       "pop         7\n",
       "reggae      8\n",
       "rock        9"
      ]
     },
     "execution_count": 425,
     "metadata": {},
     "output_type": "execute_result"
    }
   ],
   "source": [
    "labels_df"
   ]
  },
  {
   "cell_type": "code",
   "execution_count": 411,
   "metadata": {
    "collapsed": true
   },
   "outputs": [],
   "source": [
    "# Подготовим датасет\n",
    "X_test, y_test = project_module.PrepareDataForModel(audio_data, labels)\n",
    "X_test_nn, y_test_nn = project_module.PrepareDataForModel(audio_data, labels, normalize=False)"
   ]
  },
  {
   "cell_type": "markdown",
   "metadata": {},
   "source": [
    "Загрузка моделей"
   ]
  },
  {
   "cell_type": "code",
   "execution_count": 412,
   "metadata": {
    "collapsed": true
   },
   "outputs": [],
   "source": [
    "# Загрузим модели\n",
    "model_pcasvc = joblib.load('models/pcasvc.pkl') \n",
    "model_lda = joblib.load('models/lda.pkl')\n",
    "model_pcasvc_nn = joblib.load('models/pcasvc_nn.pkl') \n",
    "model_lda_nn = joblib.load('models/lda_nn.pkl')"
   ]
  },
  {
   "cell_type": "markdown",
   "metadata": {},
   "source": [
    "** Момент истины - тест! **"
   ]
  },
  {
   "cell_type": "markdown",
   "metadata": {},
   "source": [
    "* Нормализованные модели"
   ]
  },
  {
   "cell_type": "code",
   "execution_count": 413,
   "metadata": {
    "collapsed": true
   },
   "outputs": [],
   "source": [
    "plt.rcParams[\"axes.grid\"] = False"
   ]
  },
  {
   "cell_type": "code",
   "execution_count": 414,
   "metadata": {},
   "outputs": [
    {
     "data": {
      "text/plain": [
       "LinearDiscriminantAnalysis(n_components=None, priors=None, shrinkage='auto',\n",
       "              solver='lsqr', store_covariance=False, tol=0.0001)"
      ]
     },
     "execution_count": 414,
     "metadata": {},
     "output_type": "execute_result"
    }
   ],
   "source": [
    "model_lda"
   ]
  },
  {
   "cell_type": "code",
   "execution_count": 423,
   "metadata": {
    "collapsed": true
   },
   "outputs": [],
   "source": [
    "def PredictAndShow(model, X, y, name):\n",
    "    y_pred = model.predict(X)\n",
    "    print \"Accuracy\", accuracy_score(y_true=y, y_pred=y_pred)\n",
    "\n",
    "    cnf_matrix = confusion_matrix(y_true=y, y_pred=y_pred)\n",
    "    plt.figure()\n",
    "    project_module.PlotConfusionMatrix(cnf_matrix, classes=labels_list, normalize=False,  title=name)\n",
    "    plt.show()\n",
    "    \n",
    "    return y_pred"
   ]
  },
  {
   "cell_type": "code",
   "execution_count": 424,
   "metadata": {},
   "outputs": [
    {
     "name": "stdout",
     "output_type": "stream",
     "text": [
      "Accuracy 0.489795918367\n",
      "Confusion matrix, without normalization\n",
      "[[4 0 1 0 1 0 0 0 0 4]\n",
      " [0 8 2 0 0 0 0 0 0 0]\n",
      " [1 0 4 0 1 0 1 1 0 2]\n",
      " [1 0 0 5 1 0 1 0 1 1]\n",
      " [0 0 1 2 3 1 0 1 2 0]\n",
      " [0 0 2 1 0 4 0 0 1 1]\n",
      " [1 0 0 1 0 0 7 0 0 1]\n",
      " [0 0 0 2 0 0 0 6 1 1]\n",
      " [3 0 0 0 2 0 0 0 5 0]\n",
      " [0 0 2 1 0 1 2 1 0 2]]\n"
     ]
    },
    {
     "data": {
      "image/png": "[encoded data removed]",
      "text/plain": [
       "<matplotlib.figure.Figure at 0x65f6fb00>"
      ]
     },
     "metadata": {},
     "output_type": "display_data"
    },
    {
     "name": "stdout",
     "output_type": "stream",
     "text": [
      "[3 7 2 8 4 0 6 9 4 0 5 9 3 0 2 3 0 7 2 2 1 3 3 7 1 9 2 8 6 9 2 2 2 7 1 8 7\n",
      " 8 8 2 6 9 6 6 6 3 9 1 1 6 2 0 7 8 3 7 3 4 3 6 4 5 6 1 9 4 2 3 9 5 3 8 8 3\n",
      " 6 5 0 4 1 2 9 4 9 9 0 5 4 7 6 8 0 5 1 0 9 0 7 8]\n",
      "[7 7 0 4 4 0 6 5 8 6 5 9 7 2 1 9 0 9 5 9 1 5 3 4 1 3 1 8 6 0 2 2 2 7 1 4 2\n",
      " 7 8 4 6 9 9 9 6 6 0 1 1 6 2 8 7 5 3 7 3 4 3 2 8 5 3 1 2 2 5 4 6 5 4 3 8 3\n",
      " 6 5 8 0 1 9 7 3 0 0 8 9 4 7 6 8 0 4 1 3 2 0 7 8]\n"
     ]
    }
   ],
   "source": [
    "print PredictAndShow(model_lda, X_test, y_test, \"LDA\")\n",
    "print y_test"
   ]
  },
  {
   "cell_type": "markdown",
   "metadata": {},
   "source": [
    "Вероятностная классификация"
   ]
  },
  {
   "cell_type": "code",
   "execution_count": 417,
   "metadata": {},
   "outputs": [
    {
     "name": "stdout",
     "output_type": "stream",
     "text": [
      "0.724489795918\n"
     ]
    }
   ],
   "source": [
    "#Минус - поменять порядок\n",
    "y_proba = model_lda.predict_proba(X_test)\n",
    "arg_sort = np.argsort(-y_proba)\n",
    "\n",
    "count_first3 = 0\n",
    "for i, sample in enumerate(arg_sort):\n",
    "    position = np.where(sample == y_test[i])[0][0]\n",
    "    if (position < 3):\n",
    "        count_first3 += 1\n",
    "        \n",
    "# % треков, где нужный жанр находится среди первых 3х предложенных\n",
    "print float(count_first3)/X_test.shape[0]"
   ]
  },
  {
   "cell_type": "code",
   "execution_count": 418,
   "metadata": {},
   "outputs": [
    {
     "name": "stdout",
     "output_type": "stream",
     "text": [
      "Скорее всего, это  disco\n",
      "но это еще может быть blues или hiphop\n",
      "А на самом деле это pop\n"
     ]
    }
   ],
   "source": [
    "# Вывод 3х предложенных жанров для 1ой песни\n",
    "print \"Скорее всего, это \", labels_df.iloc[arg_sort[0, 0]].name\n",
    "print \"но это еще может быть\", labels_df.iloc[arg_sort[0, 1]].name, \"или\", labels_df.iloc[arg_sort[0, 2]].name\n",
    "print \"А на самом деле это\", labels_df.iloc[y_test[0]].name"
   ]
  },
  {
   "cell_type": "code",
   "execution_count": 419,
   "metadata": {},
   "outputs": [
    {
     "name": "stdout",
     "output_type": "stream",
     "text": [
      "Accuracy 0.459183673469\n",
      "Confusion matrix, without normalization\n",
      "[[ 2  0  4  0  1  0  0  0  1  2]\n",
      " [ 0 10  0  0  0  0  0  0  0  0]\n",
      " [ 0  0  6  2  0  0  0  1  1  0]\n",
      " [ 0  0  3  5  1  0  0  0  1  0]\n",
      " [ 0  0  4  3  2  0  0  0  1  0]\n",
      " [ 0  0  0  1  0  5  0  0  1  2]\n",
      " [ 1  0  0  1  0  0  7  0  0  1]\n",
      " [ 1  0  3  4  0  0  0  1  1  0]\n",
      " [ 0  0  1  2  1  0  0  0  6  0]\n",
      " [ 0  1  2  2  0  0  2  0  1  1]]\n"
     ]
    },
    {
     "data": {
      "image/png": "[encoded data removed]",
      "text/plain": [
       "<matplotlib.figure.Figure at 0x8d77d2b0>"
      ]
     },
     "metadata": {},
     "output_type": "display_data"
    }
   ],
   "source": [
    "PredictAndShow(model_pcasvc, X_test, y_test, \"PCA+SVC\")"
   ]
  },
  {
   "cell_type": "markdown",
   "metadata": {},
   "source": [
    "##### Мы возьмем LDA, поскольку в нем есть вероятностная классификация, что позволит несколько сгладить недостатки классификатора"
   ]
  },
  {
   "cell_type": "markdown",
   "metadata": {},
   "source": [
    "* Ненормализованные модели (на всякий случай)"
   ]
  },
  {
   "cell_type": "code",
   "execution_count": 361,
   "metadata": {},
   "outputs": [
    {
     "name": "stdout",
     "output_type": "stream",
     "text": [
      "Accuracy 0.15306122449\n",
      "Confusion matrix, without normalization\n",
      "[[ 0  0  0  0 10  0  0  0  0  0]\n",
      " [ 0  2  0  0  7  0  0  1  0  0]\n",
      " [ 0  0  0  0  7  0  0  3  0  0]\n",
      " [ 0  0  0  0 10  0  0  0  0  0]\n",
      " [ 0  0  0  0  8  0  0  2  0  0]\n",
      " [ 0  0  0  0  9  0  0  0  0  0]\n",
      " [ 0  0  0  0 10  0  0  0  0  0]\n",
      " [ 0  0  0  0  5  0  0  5  0  0]\n",
      " [ 0  0  0  0 10  0  0  0  0  0]\n",
      " [ 0  0  0  0  9  0  0  0  0  0]]\n"
     ]
    },
    {
     "data": {
      "image/png": "[encoded data removed]",
      "text/plain": [
       "<matplotlib.figure.Figure at 0xfa52320>"
      ]
     },
     "metadata": {},
     "output_type": "display_data"
    }
   ],
   "source": [
    "PredictAndShow(model_lda_nn, X_test_nn, y_test_nn, \"LDA_nn\")"
   ]
  },
  {
   "cell_type": "code",
   "execution_count": 362,
   "metadata": {},
   "outputs": [
    {
     "name": "stdout",
     "output_type": "stream",
     "text": [
      "Accuracy 0.112244897959\n",
      "Confusion matrix, without normalization\n",
      "[[ 1  0  0  0  9  0  0  0  0  0]\n",
      " [ 3  0  0  1  6  0  0  0  0  0]\n",
      " [ 0  0  0  0 10  0  0  0  0  0]\n",
      " [ 0  0  0  0 10  0  0  0  0  0]\n",
      " [ 0  0  0  0 10  0  0  0  0  0]\n",
      " [ 0  0  0  0  9  0  0  0  0  0]\n",
      " [ 1  0  0  0  9  0  0  0  0  0]\n",
      " [ 0  0  0  0 10  0  0  0  0  0]\n",
      " [ 0  0  0  0 10  0  0  0  0  0]\n",
      " [ 1  0  0  0  8  0  0  0  0  0]]\n"
     ]
    },
    {
     "data": {
      "image/png": "[encoded data removed]",
      "text/plain": [
       "<matplotlib.figure.Figure at 0x6acf198>"
      ]
     },
     "metadata": {},
     "output_type": "display_data"
    }
   ],
   "source": [
    "PredictAndShow(model_pcasvc_nn, X_test_nn, y_test_nn, \"PCA+SVC_nn\")"
   ]
  },
  {
   "cell_type": "markdown",
   "metadata": {
    "collapsed": true
   },
   "source": [
    "** Классификация полных песен **"
   ]
  },
  {
   "cell_type": "code",
   "execution_count": 474,
   "metadata": {},
   "outputs": [
    {
     "data": {
      "text/plain": [
       "<module 'project_module' from 'project_module.pyc'>"
      ]
     },
     "execution_count": 474,
     "metadata": {},
     "output_type": "execute_result"
    }
   ],
   "source": [
    "reload(project_module)"
   ]
  },
  {
   "cell_type": "code",
   "execution_count": 475,
   "metadata": {
    "collapsed": true
   },
   "outputs": [],
   "source": [
    "source_list_full = None\n",
    "\n",
    "if OSTYPE == 'Linux':\n",
    "    source_list_full = !find ./for_test/ -type f | sort\n",
    "else:\n",
    "    source_list_full = !dir \"for_test/full\" /B /S\n",
    "    current_dir_full = !echo %cd%\n",
    "\n",
    "file_list_full = project_module.GetFilenameList(source_list_full, OSTYPE, current_dir)"
   ]
  },
  {
   "cell_type": "code",
   "execution_count": 476,
   "metadata": {
    "collapsed": true
   },
   "outputs": [],
   "source": [
    "np.random.seed(7)"
   ]
  },
  {
   "cell_type": "code",
   "execution_count": 477,
   "metadata": {},
   "outputs": [],
   "source": [
    "full_song_df = project_module.LoadAudio(file_list_full, False, OSTYPE, crop=True)"
   ]
  },
  {
   "cell_type": "code",
   "execution_count": 478,
   "metadata": {},
   "outputs": [],
   "source": [
    "X_full, y_full = project_module.PrepareDataForModel(full_song_df, labels, shuffle=False)"
   ]
  },
  {
   "cell_type": "code",
   "execution_count": 479,
   "metadata": {},
   "outputs": [
    {
     "name": "stdout",
     "output_type": "stream",
     "text": [
      "rock > country > disco , filename: blues_HouseOfTheRisingSunTim Griffin.wav\n",
      "classical > jazz > country , filename: classic_TanetsMalenkihLebedey.wav\n",
      "blues > country > jazz , filename: country_BetterManLittleBigTown.wav\n",
      "disco > hiphop > jazz , filename: disco_BodyTalkImagination.wav\n",
      "blues > disco > hiphop , filename: hiphop_AllEyezOnMe2Pac.wav\n",
      "rock > country > disco , filename: jazz_RudolphTheRedNosedReindeerEllaFitzgerald.wav\n",
      "metal > disco > rock , filename: metal_AtlasRiseMetallica.wav\n",
      "disco > country > rock , filename: pop_IDidSomethingBadTaylorSwift.wav\n",
      "hiphop > reggae > disco , filename: raggae_DanceElephantMan.wav\n",
      "metal > rock > reggae , filename: rock_AreYouDreamingDiaryofMyMisanthropy.wav\n"
     ]
    }
   ],
   "source": [
    "y_full_proba = model_lda.predict_proba(X_full)\n",
    "y_pred = model_lda.predict(X_full)\n",
    "y_full_texts = list()\n",
    "for i, probabilities in enumerate(y_full_proba):\n",
    "    arg_sort = np.argsort(-probabilities)\n",
    "    y_full_texts.append(labels_df.iloc[arg_sort[0]].name+\" > \"+labels_df.iloc[arg_sort[1]].name+\" > \"+\n",
    "                        labels_df.iloc[arg_sort[2]].name)\n",
    "    #print labels_df.iloc[y_pred[i]].name\n",
    "    print y_full_texts[i], \", filename:\", full_song_df.file_name[i]\n",
    "full_song_df.genre = y_full_texts"
   ]
  },
  {
   "cell_type": "code",
   "execution_count": 480,
   "metadata": {
    "scrolled": true
   },
   "outputs": [
    {
     "data": {
      "text/html": [
       "<div>\n",
       "<style>\n",
       "    .dataframe thead tr:only-child th {\n",
       "        text-align: right;\n",
       "    }\n",
       "\n",
       "    .dataframe thead th {\n",
       "        text-align: left;\n",
       "    }\n",
       "\n",
       "    .dataframe tbody tr th {\n",
       "        vertical-align: top;\n",
       "    }\n",
       "</style>\n",
       "<table border=\"1\" class=\"dataframe\">\n",
       "  <thead>\n",
       "    <tr style=\"text-align: right;\">\n",
       "      <th></th>\n",
       "      <th>genre</th>\n",
       "      <th>file_name</th>\n",
       "      <th>samplerate</th>\n",
       "      <th>duration</th>\n",
       "      <th>mean</th>\n",
       "      <th>std</th>\n",
       "      <th>max</th>\n",
       "      <th>min</th>\n",
       "      <th>diff_mean</th>\n",
       "      <th>diff_std</th>\n",
       "    </tr>\n",
       "  </thead>\n",
       "  <tbody>\n",
       "    <tr>\n",
       "      <th>0</th>\n",
       "      <td>rock &gt; country &gt; disco</td>\n",
       "      <td>blues_HouseOfTheRisingSunTim Griffin.wav</td>\n",
       "      <td>22050</td>\n",
       "      <td>297</td>\n",
       "      <td>[-1.08220154825, -7.87008147981, 2.8625429299,...</td>\n",
       "      <td>[1.58790084091, 12.4330548842, 8.46848320089, ...</td>\n",
       "      <td>[3.47568600215, 34.012276627, 30.8917274739, 3...</td>\n",
       "      <td>[-4.72582353862, -45.838430991, -36.4854122946...</td>\n",
       "      <td>[-6.78787993157, 10.7326244097, 1.30097256398,...</td>\n",
       "      <td>[13.7007547183, 18.2193883515, 10.7115089402, ...</td>\n",
       "    </tr>\n",
       "    <tr>\n",
       "      <th>1</th>\n",
       "      <td>classical &gt; jazz &gt; country</td>\n",
       "      <td>classic_TanetsMalenkihLebedey.wav</td>\n",
       "      <td>22050</td>\n",
       "      <td>94</td>\n",
       "      <td>[-6.80329014623, 5.8196208093, -21.7798252962,...</td>\n",
       "      <td>[1.25460913701, 5.37885858332, 7.82125908636, ...</td>\n",
       "      <td>[-3.6451523635, 17.8111058911, 0.875938762424,...</td>\n",
       "      <td>[-9.58442442397, -12.4031252542, -40.704080833...</td>\n",
       "      <td>[12.6229109555, -27.5994461055, 21.8113852913,...</td>\n",
       "      <td>[5.67041721986, 7.98452755221, 8.97860018852, ...</td>\n",
       "    </tr>\n",
       "    <tr>\n",
       "      <th>2</th>\n",
       "      <td>blues &gt; country &gt; jazz</td>\n",
       "      <td>country_BetterManLittleBigTown.wav</td>\n",
       "      <td>22050</td>\n",
       "      <td>259</td>\n",
       "      <td>[-2.3169200911, 11.4090939386, -4.7188699338, ...</td>\n",
       "      <td>[1.59891677603, 10.3167681263, 10.4024907012, ...</td>\n",
       "      <td>[1.89782787251, 33.7910560918, 31.9322898062, ...</td>\n",
       "      <td>[-6.1209842825, -28.6300608624, -40.9136499262...</td>\n",
       "      <td>[13.7260140297, -16.1279638724, 8.24906112873,...</td>\n",
       "      <td>[11.3891895737, 14.134192424, 14.804268733, 13...</td>\n",
       "    </tr>\n",
       "    <tr>\n",
       "      <th>3</th>\n",
       "      <td>disco &gt; hiphop &gt; jazz</td>\n",
       "      <td>disco_BodyTalkImagination.wav</td>\n",
       "      <td>22050</td>\n",
       "      <td>368</td>\n",
       "      <td>[-3.43467950121, -8.61310433631, -6.9382062908...</td>\n",
       "      <td>[2.34171337313, 10.7621917038, 11.3477921122, ...</td>\n",
       "      <td>[0.770909058518, 23.2267176031, 29.0416654545,...</td>\n",
       "      <td>[-13.478176947, -34.1651248505, -39.7319867259...</td>\n",
       "      <td>[-5.1784248351, 1.67489804542, 7.43868953804, ...</td>\n",
       "      <td>[11.9369072438, 18.7860414019, 15.8312104974, ...</td>\n",
       "    </tr>\n",
       "    <tr>\n",
       "      <th>4</th>\n",
       "      <td>blues &gt; disco &gt; hiphop</td>\n",
       "      <td>hiphop_AllEyezOnMe2Pac.wav</td>\n",
       "      <td>22050</td>\n",
       "      <td>246</td>\n",
       "      <td>[0.258186196759, -12.2424843138, -4.3435828353...</td>\n",
       "      <td>[1.37572391792, 10.7334762413, 11.7410127677, ...</td>\n",
       "      <td>[3.21133884334, 18.335002916, 34.7707081512, 4...</td>\n",
       "      <td>[-4.98600819209, -47.4624991788, -37.480240257...</td>\n",
       "      <td>[-12.5006705106, 7.89890147844, 10.507827919, ...</td>\n",
       "      <td>[11.3067988384, 17.943815599, 15.9504843495, 1...</td>\n",
       "    </tr>\n",
       "    <tr>\n",
       "      <th>5</th>\n",
       "      <td>rock &gt; country &gt; disco</td>\n",
       "      <td>jazz_RudolphTheRedNosedReindeerEllaFitzgerald.wav</td>\n",
       "      <td>22050</td>\n",
       "      <td>93</td>\n",
       "      <td>[-0.665291118706, -6.48880279133, -8.741785070...</td>\n",
       "      <td>[1.10721363848, 7.94082324788, 9.28829139301, ...</td>\n",
       "      <td>[2.82192502717, 11.4707544327, 27.4092417969, ...</td>\n",
       "      <td>[-5.02686435234, -38.6443343393, -35.321960799...</td>\n",
       "      <td>[-5.82351167262, -2.25298227884, 4.92121423562...</td>\n",
       "      <td>[8.54383473607, 14.0546051838, 11.0665729402, ...</td>\n",
       "    </tr>\n",
       "    <tr>\n",
       "      <th>6</th>\n",
       "      <td>metal &gt; disco &gt; rock</td>\n",
       "      <td>metal_AtlasRiseMetallica.wav</td>\n",
       "      <td>22050</td>\n",
       "      <td>388</td>\n",
       "      <td>[1.38943636743, -19.5335800078, -6.36420485032...</td>\n",
       "      <td>[0.925844138557, 5.68799824052, 7.74055276772,...</td>\n",
       "      <td>[3.21442946442, 10.0675553747, 21.8719780717, ...</td>\n",
       "      <td>[-3.52459137994, -34.7698115289, -34.752770690...</td>\n",
       "      <td>[-20.9230163752, 13.1693751575, 12.2162646469,...</td>\n",
       "      <td>[6.45554898221, 10.8571358635, 10.395224705, 8...</td>\n",
       "    </tr>\n",
       "    <tr>\n",
       "      <th>7</th>\n",
       "      <td>disco &gt; country &gt; rock</td>\n",
       "      <td>pop_IDidSomethingBadTaylorSwift.wav</td>\n",
       "      <td>22050</td>\n",
       "      <td>215</td>\n",
       "      <td>[-1.12346416614, -7.66050812738, -1.6307317545...</td>\n",
       "      <td>[2.01193371923, 10.3902605507, 10.6915668315, ...</td>\n",
       "      <td>[3.99241451135, 26.6604066646, 34.7756504926, ...</td>\n",
       "      <td>[-8.33928152673, -53.2663354893, -43.655909476...</td>\n",
       "      <td>[-6.53704396124, 6.02977637279, -10.0524189716...</td>\n",
       "      <td>[11.9725439236, 16.2834022339, 14.2570818559, ...</td>\n",
       "    </tr>\n",
       "    <tr>\n",
       "      <th>8</th>\n",
       "      <td>hiphop &gt; reggae &gt; disco</td>\n",
       "      <td>raggae_DanceElephantMan.wav</td>\n",
       "      <td>22050</td>\n",
       "      <td>211</td>\n",
       "      <td>[0.294434855761, -18.074707549, -9.31654317455...</td>\n",
       "      <td>[1.21613131336, 7.25393119185, 9.26716614239, ...</td>\n",
       "      <td>[3.04696283932, 9.64545352127, 24.2620099981, ...</td>\n",
       "      <td>[-6.04353218669, -44.1454023038, -45.327472199...</td>\n",
       "      <td>[-18.3691424048, 8.75816437445, 6.55286365541,...</td>\n",
       "      <td>[7.800942497, 11.4630533944, 12.9971101918, 10...</td>\n",
       "    </tr>\n",
       "    <tr>\n",
       "      <th>9</th>\n",
       "      <td>metal &gt; rock &gt; reggae</td>\n",
       "      <td>rock_AreYouDreamingDiaryofMyMisanthropy.wav</td>\n",
       "      <td>22050</td>\n",
       "      <td>175</td>\n",
       "      <td>[0.194491425766, -9.44683559067, -22.525314648...</td>\n",
       "      <td>[1.44892522706, 6.84404409347, 8.83586267607, ...</td>\n",
       "      <td>[2.82148835301, 9.42155828122, 25.181060562, 2...</td>\n",
       "      <td>[-7.15039856494, -40.9141142044, -60.662308279...</td>\n",
       "      <td>[-9.64132701644, -13.0784790575, 25.1204382063...</td>\n",
       "      <td>[7.40421157064, 13.4371871301, 14.3817504899, ...</td>\n",
       "    </tr>\n",
       "  </tbody>\n",
       "</table>\n",
       "</div>"
      ],
      "text/plain": [
       "                        genre  \\\n",
       "0      rock > country > disco   \n",
       "1  classical > jazz > country   \n",
       "2      blues > country > jazz   \n",
       "3       disco > hiphop > jazz   \n",
       "4      blues > disco > hiphop   \n",
       "5      rock > country > disco   \n",
       "6        metal > disco > rock   \n",
       "7      disco > country > rock   \n",
       "8     hiphop > reggae > disco   \n",
       "9       metal > rock > reggae   \n",
       "\n",
       "                                           file_name samplerate duration  \\\n",
       "0           blues_HouseOfTheRisingSunTim Griffin.wav      22050      297   \n",
       "1                  classic_TanetsMalenkihLebedey.wav      22050       94   \n",
       "2                 country_BetterManLittleBigTown.wav      22050      259   \n",
       "3                      disco_BodyTalkImagination.wav      22050      368   \n",
       "4                         hiphop_AllEyezOnMe2Pac.wav      22050      246   \n",
       "5  jazz_RudolphTheRedNosedReindeerEllaFitzgerald.wav      22050       93   \n",
       "6                       metal_AtlasRiseMetallica.wav      22050      388   \n",
       "7                pop_IDidSomethingBadTaylorSwift.wav      22050      215   \n",
       "8                        raggae_DanceElephantMan.wav      22050      211   \n",
       "9        rock_AreYouDreamingDiaryofMyMisanthropy.wav      22050      175   \n",
       "\n",
       "                                                mean  \\\n",
       "0  [-1.08220154825, -7.87008147981, 2.8625429299,...   \n",
       "1  [-6.80329014623, 5.8196208093, -21.7798252962,...   \n",
       "2  [-2.3169200911, 11.4090939386, -4.7188699338, ...   \n",
       "3  [-3.43467950121, -8.61310433631, -6.9382062908...   \n",
       "4  [0.258186196759, -12.2424843138, -4.3435828353...   \n",
       "5  [-0.665291118706, -6.48880279133, -8.741785070...   \n",
       "6  [1.38943636743, -19.5335800078, -6.36420485032...   \n",
       "7  [-1.12346416614, -7.66050812738, -1.6307317545...   \n",
       "8  [0.294434855761, -18.074707549, -9.31654317455...   \n",
       "9  [0.194491425766, -9.44683559067, -22.525314648...   \n",
       "\n",
       "                                                 std  \\\n",
       "0  [1.58790084091, 12.4330548842, 8.46848320089, ...   \n",
       "1  [1.25460913701, 5.37885858332, 7.82125908636, ...   \n",
       "2  [1.59891677603, 10.3167681263, 10.4024907012, ...   \n",
       "3  [2.34171337313, 10.7621917038, 11.3477921122, ...   \n",
       "4  [1.37572391792, 10.7334762413, 11.7410127677, ...   \n",
       "5  [1.10721363848, 7.94082324788, 9.28829139301, ...   \n",
       "6  [0.925844138557, 5.68799824052, 7.74055276772,...   \n",
       "7  [2.01193371923, 10.3902605507, 10.6915668315, ...   \n",
       "8  [1.21613131336, 7.25393119185, 9.26716614239, ...   \n",
       "9  [1.44892522706, 6.84404409347, 8.83586267607, ...   \n",
       "\n",
       "                                                 max  \\\n",
       "0  [3.47568600215, 34.012276627, 30.8917274739, 3...   \n",
       "1  [-3.6451523635, 17.8111058911, 0.875938762424,...   \n",
       "2  [1.89782787251, 33.7910560918, 31.9322898062, ...   \n",
       "3  [0.770909058518, 23.2267176031, 29.0416654545,...   \n",
       "4  [3.21133884334, 18.335002916, 34.7707081512, 4...   \n",
       "5  [2.82192502717, 11.4707544327, 27.4092417969, ...   \n",
       "6  [3.21442946442, 10.0675553747, 21.8719780717, ...   \n",
       "7  [3.99241451135, 26.6604066646, 34.7756504926, ...   \n",
       "8  [3.04696283932, 9.64545352127, 24.2620099981, ...   \n",
       "9  [2.82148835301, 9.42155828122, 25.181060562, 2...   \n",
       "\n",
       "                                                 min  \\\n",
       "0  [-4.72582353862, -45.838430991, -36.4854122946...   \n",
       "1  [-9.58442442397, -12.4031252542, -40.704080833...   \n",
       "2  [-6.1209842825, -28.6300608624, -40.9136499262...   \n",
       "3  [-13.478176947, -34.1651248505, -39.7319867259...   \n",
       "4  [-4.98600819209, -47.4624991788, -37.480240257...   \n",
       "5  [-5.02686435234, -38.6443343393, -35.321960799...   \n",
       "6  [-3.52459137994, -34.7698115289, -34.752770690...   \n",
       "7  [-8.33928152673, -53.2663354893, -43.655909476...   \n",
       "8  [-6.04353218669, -44.1454023038, -45.327472199...   \n",
       "9  [-7.15039856494, -40.9141142044, -60.662308279...   \n",
       "\n",
       "                                           diff_mean  \\\n",
       "0  [-6.78787993157, 10.7326244097, 1.30097256398,...   \n",
       "1  [12.6229109555, -27.5994461055, 21.8113852913,...   \n",
       "2  [13.7260140297, -16.1279638724, 8.24906112873,...   \n",
       "3  [-5.1784248351, 1.67489804542, 7.43868953804, ...   \n",
       "4  [-12.5006705106, 7.89890147844, 10.507827919, ...   \n",
       "5  [-5.82351167262, -2.25298227884, 4.92121423562...   \n",
       "6  [-20.9230163752, 13.1693751575, 12.2162646469,...   \n",
       "7  [-6.53704396124, 6.02977637279, -10.0524189716...   \n",
       "8  [-18.3691424048, 8.75816437445, 6.55286365541,...   \n",
       "9  [-9.64132701644, -13.0784790575, 25.1204382063...   \n",
       "\n",
       "                                            diff_std  \n",
       "0  [13.7007547183, 18.2193883515, 10.7115089402, ...  \n",
       "1  [5.67041721986, 7.98452755221, 8.97860018852, ...  \n",
       "2  [11.3891895737, 14.134192424, 14.804268733, 13...  \n",
       "3  [11.9369072438, 18.7860414019, 15.8312104974, ...  \n",
       "4  [11.3067988384, 17.943815599, 15.9504843495, 1...  \n",
       "5  [8.54383473607, 14.0546051838, 11.0665729402, ...  \n",
       "6  [6.45554898221, 10.8571358635, 10.395224705, 8...  \n",
       "7  [11.9725439236, 16.2834022339, 14.2570818559, ...  \n",
       "8  [7.800942497, 11.4630533944, 12.9971101918, 10...  \n",
       "9  [7.40421157064, 13.4371871301, 14.3817504899, ...  "
      ]
     },
     "execution_count": 480,
     "metadata": {},
     "output_type": "execute_result"
    }
   ],
   "source": [
    "full_song_df"
   ]
  },
  {
   "cell_type": "code",
   "execution_count": null,
   "metadata": {
    "collapsed": true
   },
   "outputs": [],
   "source": []
  }
 ],
 "metadata": {
  "kernelspec": {
   "display_name": "Python 2",
   "language": "python",
   "name": "python2"
  },
  "language_info": {
   "codemirror_mode": {
    "name": "ipython",
    "version": 2
   },
   "file_extension": ".py",
   "mimetype": "text/x-python",
   "name": "python",
   "nbconvert_exporter": "python",
   "pygments_lexer": "ipython2",
   "version": "2.7.13"
  }
 },
 "nbformat": 4,
 "nbformat_minor": 2
}
